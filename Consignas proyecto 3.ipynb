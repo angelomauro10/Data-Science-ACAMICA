{
  "nbformat": 4,
  "nbformat_minor": 0,
  "metadata": {
    "colab": {
      "provenance": []
    },
    "kernelspec": {
      "name": "python3",
      "display_name": "Python 3"
    },
    "language_info": {
      "name": "python"
    }
  },
  "cells": [
    {
      "cell_type": "markdown",
      "source": [
        "#Resumen del proyecto\n",
        "¡Aplica Procesamiento del Lenguaje Natural, Sistemas de Recomendación y Series de Tiempo para resolver problemas de relevancia contemporánea!\n",
        "\n",
        "La realización y entrega del Proyecto es individual.\n",
        "##Entregables\n",
        "Un Notebook de Jupyter con la resolución de la consigna. El Notebook debe poder ejecutarse sin errores. En el notebook debe estar el link al repositorio (por ejemplo, de GitHub) donde se pueda encontrar el proyecto entregado.\n",
        "##Referencias\n",
        "Apóyate en las bitácoras, los notebooks trabajados y las presentaciones vistas en clase para resolver tu proyecto. También será de mucha utilidad la documentación de las librerías de Python. No dudes en consultar comunidades online como Stack Overflow y, por supuesto, buscar en la web (googlear).\n",
        "##Consigna\n",
        "Elige una de las tres opciones de aplicación para elaborar tu proyecto. El objetivo es que apliques las herramientas aprendidas en el dominio que hayas seleccionado. Verás que para cualquiera de las opciones, el trabajo se organiza en tres partes:\n",
        "* Parte A - Exploración de Datos. Todo proyecto de Ciencia de Datos empieza con un Análisis Exploratorio de Datos. Y todo Análisis Exploratorio de Datos debe responder preguntas.\n",
        "* Parte B - Modelo de Machine Learning. En esta sección deberás aplicar las técnicas de Machine Learning aprendidas para crear un modelo predictivo a partir del dataset provisto.\n",
        "* Parte C - Investigación. Las preguntas y cosas para probar nunca se agotan. El objetivo de esta sección es que sugieras cómo continuarías el proyecto, con el fin de mejorar el modelo o responder una pregunta que consideres interesante. En todos los notebooks dejamos algunas sugerencias, pero puedes proponer otras.\n",
        "\n",
        "Aquí debajo encontrarás el notebook con las consignas y el dataset para cada caso. Ten en cuenta que este proyecto se monta sobre los proyectos anteriores, y que ya esperamos cierto grado de independencia de parte tuya. Por eso, las consignas y recomendaciones de los notebooks no son exhaustivas. Es decir, si hay un paso en el flujo de trabajo que no está mencionado en el notebook que te dejamos, no implica que no haya que hacerlo. Recuerda que para ver lo que sí tiene que estar sin falta en tu entregable debes consultar el Checklist.\n",
        "\n",
        "* Opción 1: Sistemas de recomendación\n",
        "Implementa un Sistema de Recomendación para videojuegos de la plataforma Steam.\n",
        "Dataset. En este repositorio puedes encontrar el dataset, junto con información sobre sus creadores (¡a quienes les agradecemos fuertemente!). Descarga los dos archivos (reviews y game_info) con anticipación. ¡Ten en cuenta que el primero ocupa bastante lugar!\n",
        "Notebook. Aquí te dejamos un notebook con algunas recomendaciones y líneas de código para que empieces a explorar los datos.\n",
        "\n",
        "* Opción 2: Procesamiento de Lenguaje Natural\n",
        "Implementa un modelo para reconocer el puntaje asignado a un ítem de Amazon a partir de la crítica que hace un/a usuario/a.\n",
        "Dataset. Aquí puedes encontrar la descarga del dataset e información sobre el mismo aquí. Es importante que tengas en cuenta la licencia de este dataset.\n",
        "Notebook. Aquí te dejamos un notebook con algunas recomendaciones para tu trabajo.\n",
        "\n",
        "* Opción 3: Series de Tiempo\n",
        "Implementa un modelo para predecir el flujo vehicular en una autopista de la Ciudad de Buenos Aires, Argentina.\n",
        "Dataset. Aquí puedes descargar el dataset. Deberás descargar - al menos para comenzar - los años 2017, 2018 y 2019. ¡Agradecemos a todos/as los que hacen Datos Abiertos!\n",
        "Notebook. Aquí te dejamos un notebook con algunas recomendaciones y líneas de código para que empieces a explorar los datos.\n",
        "##Checklist de evaluación\n",
        "\n",
        "Sugerencias para desarrollar el proyecto:\n",
        "\n",
        "* La resolución del proyecto te puede enfrentar a desafíos que no trabajamos durante los encuentros. Es importante que desarrolles la capacidad de resolverlos. Para ello, consulta las bitácoras, las referencias, los notebooks vistos en clase, la documentación de la librería y, sobre todo, googlea.\n",
        "* Los pasos deben estar correctamente justificados.\n",
        "* Las preguntas que se respondan deben estar correctamente explicitadas.\n",
        "* Imagina que este proyecto lo usarías para presentar en una entrevista de trabajo, o que lo debes presentar en tu trabajo. Presta mucha atención a la redacción, presentación de gráficos, etc.\n",
        "\n",
        "Antes de subir tu proyecto a la plataforma Acámica para que sea evaluado, verifica que el Notebook se ejecute sin errores. Además, asegúrate de cumplir con las siguientes condiciones (son las que los/as evaluadores/as tendrán en consideración al momento de corregir tu trabajo):\n",
        "\n",
        "* Parte A - Exploración de Datos\n",
        "El Análisis Exploratorio de Datos debe servir para comprender el dataset y todo el flujo de trabajo que le siga.\n",
        "Debes responder al menos una pregunta original con este dataset. La pregunta debe estar correctamente explicitada.\n",
        "* Parte B - Modelo de Machine Learning\n",
        "Debes evaluar correctamente el modelo que realices. Esto implica un correcto manejo de datos de Train y Test, elegir una métrica apropiada y justificar su elección, y comparar los resultados contra un modelo benchmark.\n",
        "Puedes aplicar más de una de las técnicas vistas para crear tus modelos. Pero ten en cuenta que es preferible un modelo bien hecho (apropiada transformación de datos, optimización de hiperparámetros y análisis de sus resultados) que muchos modelos a medias. En caso de entrenar más de un modelo, debes comparar sus resultados y justificar cuál elegirías.\n",
        "Si el modelo lo permite, debes explorar qué información utiliza para predecir e interpretar ese resultado. ¿Coincide con lo que esperabas a partir de tu experiencia con el dataset?\n",
        "* Parte C - Investigación\n",
        "Debes explicar qué te gustaría probar, por qué y cómo lo harías. Si tienes referencias (por ejemplo, un artículo que hayas encontrado, capítulo de libro, etc.), debes mencionarlas.\n",
        "Debes comentar también qué resultados esperas encontrar. Por ejemplo, puedes implementar una prueba rápida y mostrar resultados preliminares, para ver si estás correctamente orientado.\n"
      ],
      "metadata": {
        "id": "ClPwbHpoYaSZ"
      }
    }
  ]
}