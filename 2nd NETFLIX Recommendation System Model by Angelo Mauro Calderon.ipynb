{
 "cells": [
  {
   "cell_type": "markdown",
   "id": "93005f88",
   "metadata": {},
   "source": [
    "# 2nd Recommendation System Model NETFLIX dataset by\n",
    "\n",
    "## Angelo Mauro Calderon"
   ]
  },
  {
   "cell_type": "markdown",
   "id": "88588f87",
   "metadata": {},
   "source": [
    "In this topic let's work in a Netflix dataset trying to create this model based the spectator rate according 4 - 5 qualiffication based on colaborative filter\n",
    "\n",
    "This dataset was taken from Kaggle.com by netflix competition: https://www.kaggle.com/datasets/netflix-inc/netflix-prize-data "
   ]
  },
  {
   "cell_type": "code",
   "execution_count": 1,
   "id": "c46487df",
   "metadata": {},
   "outputs": [],
   "source": [
    "import numpy as np\n",
    "import pandas as pd\n",
    "import seaborn as sns\n",
    "import matplotlib.pyplot as plt\n",
    "sns.set()\n",
    "import gc"
   ]
  },
  {
   "cell_type": "markdown",
   "id": "1b244e51",
   "metadata": {},
   "source": [
    "First of all I will work only with combined_data_1.txt and movie_titles.csv because the resources costs of the others ones files are massive to support my notebook."
   ]
  },
  {
   "cell_type": "markdown",
   "id": "0baf4116",
   "metadata": {},
   "source": [
    "The file \"combined_data_1.txt\" is a tar of a directory containing 17770 files, one\n",
    "per movie. The first line of each file contains the movie id followed by a\n",
    "colon. \n",
    "Each subsequent line in the file corresponds to a rating from a customer\n",
    "and its date in the following format:\n",
    "\n",
    "CustomerID,Rating,Date\n",
    "\n",
    "MovieIDs range from 1 to 17770 sequentially.\n",
    "CustomerIDs range from 1 to 2649429, with gaps. There are 480189 users.\n",
    "Ratings are on a five star (integral) scale from 1 to 5.\n",
    "Dates have the format YYYY-MM-DD."
   ]
  },
  {
   "cell_type": "code",
   "execution_count": 2,
   "id": "8c7a2e1a",
   "metadata": {},
   "outputs": [
    {
     "name": "stdout",
     "output_type": "stream",
     "text": [
      "(24058263, 2)\n"
     ]
    }
   ],
   "source": [
    "def load_data(name):\n",
    "    \n",
    "    df  = pd.read_csv(name, header = None , names = ['User' , 'Rating'], usecols = [0,1])\n",
    "    return df\n",
    "\n",
    "df1 = load_data('Downloads/netf/combined_data_1.txt')\n",
    "print(df1.shape)"
   ]
  },
  {
   "cell_type": "code",
   "execution_count": 3,
   "id": "00252a37",
   "metadata": {},
   "outputs": [
    {
     "data": {
      "text/html": [
       "<div>\n",
       "<style scoped>\n",
       "    .dataframe tbody tr th:only-of-type {\n",
       "        vertical-align: middle;\n",
       "    }\n",
       "\n",
       "    .dataframe tbody tr th {\n",
       "        vertical-align: top;\n",
       "    }\n",
       "\n",
       "    .dataframe thead th {\n",
       "        text-align: right;\n",
       "    }\n",
       "</style>\n",
       "<table border=\"1\" class=\"dataframe\">\n",
       "  <thead>\n",
       "    <tr style=\"text-align: right;\">\n",
       "      <th></th>\n",
       "      <th>User</th>\n",
       "      <th>Rating</th>\n",
       "    </tr>\n",
       "  </thead>\n",
       "  <tbody>\n",
       "    <tr>\n",
       "      <th>0</th>\n",
       "      <td>1:</td>\n",
       "      <td>NaN</td>\n",
       "    </tr>\n",
       "    <tr>\n",
       "      <th>1</th>\n",
       "      <td>1488844</td>\n",
       "      <td>3.0</td>\n",
       "    </tr>\n",
       "    <tr>\n",
       "      <th>2</th>\n",
       "      <td>822109</td>\n",
       "      <td>5.0</td>\n",
       "    </tr>\n",
       "    <tr>\n",
       "      <th>3</th>\n",
       "      <td>885013</td>\n",
       "      <td>4.0</td>\n",
       "    </tr>\n",
       "    <tr>\n",
       "      <th>4</th>\n",
       "      <td>30878</td>\n",
       "      <td>4.0</td>\n",
       "    </tr>\n",
       "  </tbody>\n",
       "</table>\n",
       "</div>"
      ],
      "text/plain": [
       "      User  Rating\n",
       "0       1:     NaN\n",
       "1  1488844     3.0\n",
       "2   822109     5.0\n",
       "3   885013     4.0\n",
       "4    30878     4.0"
      ]
     },
     "execution_count": 3,
     "metadata": {},
     "output_type": "execute_result"
    }
   ],
   "source": [
    "df1.head()"
   ]
  },
  {
   "cell_type": "markdown",
   "id": "270d6b5b",
   "metadata": {},
   "source": [
    "Now let's to know wich movie corresponds to each qualiffication and we are going to count how many movies is there in df1 and identify them. \n",
    "I will import movie_titles.csv file:"
   ]
  },
  {
   "cell_type": "code",
   "execution_count": 4,
   "id": "128a0387",
   "metadata": {},
   "outputs": [
    {
     "data": {
      "text/html": [
       "<div>\n",
       "<style scoped>\n",
       "    .dataframe tbody tr th:only-of-type {\n",
       "        vertical-align: middle;\n",
       "    }\n",
       "\n",
       "    .dataframe tbody tr th {\n",
       "        vertical-align: top;\n",
       "    }\n",
       "\n",
       "    .dataframe thead th {\n",
       "        text-align: right;\n",
       "    }\n",
       "</style>\n",
       "<table border=\"1\" class=\"dataframe\">\n",
       "  <thead>\n",
       "    <tr style=\"text-align: right;\">\n",
       "      <th></th>\n",
       "      <th>Name</th>\n",
       "    </tr>\n",
       "    <tr>\n",
       "      <th>Movie_id</th>\n",
       "      <th></th>\n",
       "    </tr>\n",
       "  </thead>\n",
       "  <tbody>\n",
       "    <tr>\n",
       "      <th>1</th>\n",
       "      <td>Dinosaur Planet</td>\n",
       "    </tr>\n",
       "    <tr>\n",
       "      <th>2</th>\n",
       "      <td>Isle of Man TT 2004 Review</td>\n",
       "    </tr>\n",
       "    <tr>\n",
       "      <th>3</th>\n",
       "      <td>Character</td>\n",
       "    </tr>\n",
       "    <tr>\n",
       "      <th>4</th>\n",
       "      <td>Paula Abdul's Get Up &amp; Dance</td>\n",
       "    </tr>\n",
       "    <tr>\n",
       "      <th>5</th>\n",
       "      <td>The Rise and Fall of ECW</td>\n",
       "    </tr>\n",
       "  </tbody>\n",
       "</table>\n",
       "</div>"
      ],
      "text/plain": [
       "                                  Name\n",
       "Movie_id                              \n",
       "1                      Dinosaur Planet\n",
       "2           Isle of Man TT 2004 Review\n",
       "3                            Character\n",
       "4         Paula Abdul's Get Up & Dance\n",
       "5             The Rise and Fall of ECW"
      ]
     },
     "execution_count": 4,
     "metadata": {},
     "output_type": "execute_result"
    }
   ],
   "source": [
    "df_title = pd.read_csv('Downloads/netf/movie_titles.csv' , encoding = 'ISO-8859-1' , index_col = 0, header = None , usecols = [0,2] , names = ['Movie_id' , 'Name'])\n",
    "df_title.head()"
   ]
  },
  {
   "cell_type": "markdown",
   "id": "061c20ed",
   "metadata": {},
   "source": [
    "On this way, we can obtain the movie's name dued to its Id"
   ]
  },
  {
   "cell_type": "code",
   "execution_count": 5,
   "id": "cf8a43f0",
   "metadata": {},
   "outputs": [
    {
     "name": "stdout",
     "output_type": "stream",
     "text": [
      "Dinosaur Planet\n"
     ]
    }
   ],
   "source": [
    "movie_id = 1\n",
    "print(df_title.loc[movie_id].Name)"
   ]
  },
  {
   "cell_type": "markdown",
   "id": "d4bbe04c",
   "metadata": {},
   "source": [
    "How many identifiers is there?"
   ]
  },
  {
   "cell_type": "code",
   "execution_count": 6,
   "id": "619b4a6b",
   "metadata": {},
   "outputs": [
    {
     "name": "stdout",
     "output_type": "stream",
     "text": [
      "['1:' '2:' '3:' ... '4497:' '4498:' '4499:']\n",
      "4499\n"
     ]
    }
   ],
   "source": [
    "movies_ids_df1 = df1.User[df1.Rating.isna()].values\n",
    "print(movies_ids_df1)\n",
    "print(len(movies_ids_df1))"
   ]
  },
  {
   "cell_type": "markdown",
   "id": "ac40d06a",
   "metadata": {},
   "source": [
    "It is a Numpy's array and I have to transform it to be able to read it as integers and assuming there is no repeated values:"
   ]
  },
  {
   "cell_type": "code",
   "execution_count": 7,
   "id": "044cfaa9",
   "metadata": {},
   "outputs": [
    {
     "name": "stdout",
     "output_type": "stream",
     "text": [
      "[   1    2    3 ... 4497 4498 4499]\n"
     ]
    }
   ],
   "source": [
    "movies_ids_df1 = np.arange(1, len(movies_ids_df1) + 1)\n",
    "print(movies_ids_df1)"
   ]
  },
  {
   "cell_type": "markdown",
   "id": "f7cd99dc",
   "metadata": {},
   "source": [
    "I will add a column to the Dataframe with the movie id according to its qualiffication and the followings columns being created: User , Rating , Movie_id.\n",
    "\n",
    "Firstly, I will select the indexes where identifiers are showen:"
   ]
  },
  {
   "cell_type": "code",
   "execution_count": 8,
   "id": "42fd6399",
   "metadata": {},
   "outputs": [
    {
     "name": "stdout",
     "output_type": "stream",
     "text": [
      "[       0      548      694 ... 24056849 24057564 24057834]\n"
     ]
    }
   ],
   "source": [
    "df1_nan = pd.DataFrame(pd.isnull(df1.Rating))\n",
    "df1_nan = df1_nan[df1_nan['Rating'] == True]\n",
    "idx_movies_ids = df1_nan.index.values\n",
    "print(idx_movies_ids)"
   ]
  },
  {
   "cell_type": "markdown",
   "id": "71b3ec30",
   "metadata": {},
   "source": [
    "I want to create a vector like df1 istances quantity's where 'movie_id' appears to its corresponding qualiffication. So I have the index where is each 'movie_id', I can get how many qualiffications there is in each movie."
   ]
  },
  {
   "cell_type": "code",
   "execution_count": 9,
   "id": "c248d307",
   "metadata": {},
   "outputs": [
    {
     "data": {
      "text/plain": [
       "array([ 548,  146, 2013, ...,  715,  270,  429], dtype=int64)"
      ]
     },
     "execution_count": 9,
     "metadata": {},
     "output_type": "execute_result"
    }
   ],
   "source": [
    "idx_movies_ids = np.append(idx_movies_ids, df1.shape[0])\n",
    "critics_amounts = np.diff(idx_movies_ids)\n",
    "critics_amounts"
   ]
  },
  {
   "cell_type": "code",
   "execution_count": 10,
   "id": "963437d1",
   "metadata": {},
   "outputs": [],
   "source": [
    "column_movie_id = np.array([])\n",
    "\n",
    "for i in range(critics_amounts.size):\n",
    "    aux = np.full(critics_amounts[i] , movies_ids_df1[i])\n",
    "    column_movie_id = np.concatenate((column_movie_id , aux))"
   ]
  },
  {
   "cell_type": "markdown",
   "id": "63047905",
   "metadata": {},
   "source": [
    "I will aggregate that column to the dataset and transform the data types and save space in my disk"
   ]
  },
  {
   "cell_type": "code",
   "execution_count": 11,
   "id": "fc850e34",
   "metadata": {},
   "outputs": [
    {
     "data": {
      "text/plain": [
       "0"
      ]
     },
     "execution_count": 11,
     "metadata": {},
     "output_type": "execute_result"
    }
   ],
   "source": [
    "df1['Movie_id'] = column_movie_id\n",
    "del column_movie_id\n",
    "\n",
    "df1.dropna(inplace = True)\n",
    "df1['User'] = df1['User'].astype(int)\n",
    "df1['Movie_id'] = df1['Movie_id'].astype(np.int16)\n",
    "df1['Rating'] = df1['Rating'].astype(np.int8)\n",
    "\n",
    "gc.collect()"
   ]
  },
  {
   "cell_type": "code",
   "execution_count": 12,
   "id": "5a9414a1",
   "metadata": {},
   "outputs": [
    {
     "data": {
      "text/html": [
       "<div>\n",
       "<style scoped>\n",
       "    .dataframe tbody tr th:only-of-type {\n",
       "        vertical-align: middle;\n",
       "    }\n",
       "\n",
       "    .dataframe tbody tr th {\n",
       "        vertical-align: top;\n",
       "    }\n",
       "\n",
       "    .dataframe thead th {\n",
       "        text-align: right;\n",
       "    }\n",
       "</style>\n",
       "<table border=\"1\" class=\"dataframe\">\n",
       "  <thead>\n",
       "    <tr style=\"text-align: right;\">\n",
       "      <th></th>\n",
       "      <th>User</th>\n",
       "      <th>Rating</th>\n",
       "      <th>Movie_id</th>\n",
       "    </tr>\n",
       "  </thead>\n",
       "  <tbody>\n",
       "    <tr>\n",
       "      <th>1</th>\n",
       "      <td>1488844</td>\n",
       "      <td>3</td>\n",
       "      <td>1</td>\n",
       "    </tr>\n",
       "    <tr>\n",
       "      <th>2</th>\n",
       "      <td>822109</td>\n",
       "      <td>5</td>\n",
       "      <td>1</td>\n",
       "    </tr>\n",
       "    <tr>\n",
       "      <th>3</th>\n",
       "      <td>885013</td>\n",
       "      <td>4</td>\n",
       "      <td>1</td>\n",
       "    </tr>\n",
       "    <tr>\n",
       "      <th>4</th>\n",
       "      <td>30878</td>\n",
       "      <td>4</td>\n",
       "      <td>1</td>\n",
       "    </tr>\n",
       "    <tr>\n",
       "      <th>5</th>\n",
       "      <td>823519</td>\n",
       "      <td>3</td>\n",
       "      <td>1</td>\n",
       "    </tr>\n",
       "  </tbody>\n",
       "</table>\n",
       "</div>"
      ],
      "text/plain": [
       "      User  Rating  Movie_id\n",
       "1  1488844       3         1\n",
       "2   822109       5         1\n",
       "3   885013       4         1\n",
       "4    30878       4         1\n",
       "5   823519       3         1"
      ]
     },
     "execution_count": 12,
     "metadata": {},
     "output_type": "execute_result"
    }
   ],
   "source": [
    "df1.head()"
   ]
  },
  {
   "cell_type": "markdown",
   "id": "37504bf0",
   "metadata": {},
   "source": [
    "At this checkpoint, I have a definitive dataset for starting the EDA, beside that, I saved \"garbage\" in my memory which python may leave in RAM.\n",
    "For that, I will save it as file:"
   ]
  },
  {
   "cell_type": "code",
   "execution_count": 13,
   "id": "9f9c2c0a",
   "metadata": {},
   "outputs": [],
   "source": [
    "if True:\n",
    "    df1.to_csv('Downloads/netf/combined_data_1_with_movie_id.csv' , index = False)"
   ]
  },
  {
   "cell_type": "markdown",
   "id": "adb4cd04",
   "metadata": {},
   "source": [
    "# EDA"
   ]
  },
  {
   "cell_type": "markdown",
   "id": "f05a84e4",
   "metadata": {},
   "source": [
    "Let's import the two datasets"
   ]
  },
  {
   "cell_type": "markdown",
   "id": "6f504eec",
   "metadata": {},
   "source": [
    "New dataset:"
   ]
  },
  {
   "cell_type": "code",
   "execution_count": 14,
   "id": "c1e14441",
   "metadata": {},
   "outputs": [
    {
     "name": "stdout",
     "output_type": "stream",
     "text": [
      "(24053764, 3)\n"
     ]
    },
    {
     "data": {
      "text/html": [
       "<div>\n",
       "<style scoped>\n",
       "    .dataframe tbody tr th:only-of-type {\n",
       "        vertical-align: middle;\n",
       "    }\n",
       "\n",
       "    .dataframe tbody tr th {\n",
       "        vertical-align: top;\n",
       "    }\n",
       "\n",
       "    .dataframe thead th {\n",
       "        text-align: right;\n",
       "    }\n",
       "</style>\n",
       "<table border=\"1\" class=\"dataframe\">\n",
       "  <thead>\n",
       "    <tr style=\"text-align: right;\">\n",
       "      <th></th>\n",
       "      <th>User</th>\n",
       "      <th>Rating</th>\n",
       "      <th>Movie_id</th>\n",
       "    </tr>\n",
       "  </thead>\n",
       "  <tbody>\n",
       "    <tr>\n",
       "      <th>0</th>\n",
       "      <td>1488844</td>\n",
       "      <td>3</td>\n",
       "      <td>1</td>\n",
       "    </tr>\n",
       "    <tr>\n",
       "      <th>1</th>\n",
       "      <td>822109</td>\n",
       "      <td>5</td>\n",
       "      <td>1</td>\n",
       "    </tr>\n",
       "    <tr>\n",
       "      <th>2</th>\n",
       "      <td>885013</td>\n",
       "      <td>4</td>\n",
       "      <td>1</td>\n",
       "    </tr>\n",
       "    <tr>\n",
       "      <th>3</th>\n",
       "      <td>30878</td>\n",
       "      <td>4</td>\n",
       "      <td>1</td>\n",
       "    </tr>\n",
       "    <tr>\n",
       "      <th>4</th>\n",
       "      <td>823519</td>\n",
       "      <td>3</td>\n",
       "      <td>1</td>\n",
       "    </tr>\n",
       "  </tbody>\n",
       "</table>\n",
       "</div>"
      ],
      "text/plain": [
       "      User  Rating  Movie_id\n",
       "0  1488844       3         1\n",
       "1   822109       5         1\n",
       "2   885013       4         1\n",
       "3    30878       4         1\n",
       "4   823519       3         1"
      ]
     },
     "execution_count": 14,
     "metadata": {},
     "output_type": "execute_result"
    }
   ],
   "source": [
    "definitive_df = pd.read_csv('Downloads/netf/combined_data_1_with_movie_id.csv' , dtype = {'Rating': np.int8 , 'Movie_id': np.int16})\n",
    "print(definitive_df.shape)\n",
    "definitive_df.head()"
   ]
  },
  {
   "cell_type": "code",
   "execution_count": 15,
   "id": "d6bba0b3",
   "metadata": {},
   "outputs": [
    {
     "data": {
      "text/plain": [
       "User        int64\n",
       "Rating       int8\n",
       "Movie_id    int16\n",
       "dtype: object"
      ]
     },
     "execution_count": 15,
     "metadata": {},
     "output_type": "execute_result"
    }
   ],
   "source": [
    "definitive_df.dtypes"
   ]
  },
  {
   "cell_type": "markdown",
   "id": "2df6b7ec",
   "metadata": {},
   "source": [
    "Titles dataset:"
   ]
  },
  {
   "cell_type": "code",
   "execution_count": 16,
   "id": "e16ff3b9",
   "metadata": {},
   "outputs": [
    {
     "data": {
      "text/html": [
       "<div>\n",
       "<style scoped>\n",
       "    .dataframe tbody tr th:only-of-type {\n",
       "        vertical-align: middle;\n",
       "    }\n",
       "\n",
       "    .dataframe tbody tr th {\n",
       "        vertical-align: top;\n",
       "    }\n",
       "\n",
       "    .dataframe thead th {\n",
       "        text-align: right;\n",
       "    }\n",
       "</style>\n",
       "<table border=\"1\" class=\"dataframe\">\n",
       "  <thead>\n",
       "    <tr style=\"text-align: right;\">\n",
       "      <th></th>\n",
       "      <th>Name</th>\n",
       "    </tr>\n",
       "    <tr>\n",
       "      <th>Movie_id</th>\n",
       "      <th></th>\n",
       "    </tr>\n",
       "  </thead>\n",
       "  <tbody>\n",
       "    <tr>\n",
       "      <th>1</th>\n",
       "      <td>Dinosaur Planet</td>\n",
       "    </tr>\n",
       "    <tr>\n",
       "      <th>2</th>\n",
       "      <td>Isle of Man TT 2004 Review</td>\n",
       "    </tr>\n",
       "    <tr>\n",
       "      <th>3</th>\n",
       "      <td>Character</td>\n",
       "    </tr>\n",
       "    <tr>\n",
       "      <th>4</th>\n",
       "      <td>Paula Abdul's Get Up &amp; Dance</td>\n",
       "    </tr>\n",
       "    <tr>\n",
       "      <th>5</th>\n",
       "      <td>The Rise and Fall of ECW</td>\n",
       "    </tr>\n",
       "  </tbody>\n",
       "</table>\n",
       "</div>"
      ],
      "text/plain": [
       "                                  Name\n",
       "Movie_id                              \n",
       "1                      Dinosaur Planet\n",
       "2           Isle of Man TT 2004 Review\n",
       "3                            Character\n",
       "4         Paula Abdul's Get Up & Dance\n",
       "5             The Rise and Fall of ECW"
      ]
     },
     "execution_count": 16,
     "metadata": {},
     "output_type": "execute_result"
    }
   ],
   "source": [
    "df_title = pd.read_csv('Downloads/netf/movie_titles.csv' , encoding = 'ISO-8859-1' , index_col = 0 , header = None , usecols = [0,2] , names = ['Movie_id' , 'Name'])\n",
    "df_title.head()"
   ]
  },
  {
   "cell_type": "markdown",
   "id": "836f4f2d",
   "metadata": {},
   "source": [
    "1. How many unique users is there?"
   ]
  },
  {
   "cell_type": "code",
   "execution_count": 17,
   "id": "2e685e36",
   "metadata": {},
   "outputs": [
    {
     "name": "stdout",
     "output_type": "stream",
     "text": [
      "470758\n"
     ]
    }
   ],
   "source": [
    "print(len(definitive_df['User'].unique()))"
   ]
  },
  {
   "cell_type": "markdown",
   "id": "3e9ab2ce",
   "metadata": {},
   "source": [
    "2. How many movies qualiffied each user?"
   ]
  },
  {
   "cell_type": "code",
   "execution_count": 18,
   "id": "c1635a28",
   "metadata": {},
   "outputs": [
    {
     "data": {
      "text/html": [
       "<div>\n",
       "<style scoped>\n",
       "    .dataframe tbody tr th:only-of-type {\n",
       "        vertical-align: middle;\n",
       "    }\n",
       "\n",
       "    .dataframe tbody tr th {\n",
       "        vertical-align: top;\n",
       "    }\n",
       "\n",
       "    .dataframe thead th {\n",
       "        text-align: right;\n",
       "    }\n",
       "</style>\n",
       "<table border=\"1\" class=\"dataframe\">\n",
       "  <thead>\n",
       "    <tr style=\"text-align: right;\">\n",
       "      <th></th>\n",
       "      <th>Rating</th>\n",
       "      <th>Movie_id</th>\n",
       "    </tr>\n",
       "    <tr>\n",
       "      <th>User</th>\n",
       "      <th></th>\n",
       "      <th></th>\n",
       "    </tr>\n",
       "  </thead>\n",
       "  <tbody>\n",
       "    <tr>\n",
       "      <th>6</th>\n",
       "      <td>153</td>\n",
       "      <td>153</td>\n",
       "    </tr>\n",
       "    <tr>\n",
       "      <th>7</th>\n",
       "      <td>195</td>\n",
       "      <td>195</td>\n",
       "    </tr>\n",
       "    <tr>\n",
       "      <th>8</th>\n",
       "      <td>21</td>\n",
       "      <td>21</td>\n",
       "    </tr>\n",
       "    <tr>\n",
       "      <th>10</th>\n",
       "      <td>49</td>\n",
       "      <td>49</td>\n",
       "    </tr>\n",
       "    <tr>\n",
       "      <th>25</th>\n",
       "      <td>4</td>\n",
       "      <td>4</td>\n",
       "    </tr>\n",
       "  </tbody>\n",
       "</table>\n",
       "</div>"
      ],
      "text/plain": [
       "      Rating  Movie_id\n",
       "User                  \n",
       "6        153       153\n",
       "7        195       195\n",
       "8         21        21\n",
       "10        49        49\n",
       "25         4         4"
      ]
     },
     "execution_count": 18,
     "metadata": {},
     "output_type": "execute_result"
    }
   ],
   "source": [
    "df1_by_users = definitive_df.groupby(['User']).count()\n",
    "df1_by_users.head()"
   ]
  },
  {
   "cell_type": "code",
   "execution_count": 19,
   "id": "d6bc02a5",
   "metadata": {},
   "outputs": [
    {
     "data": {
      "image/png": "[encoded data removed]",
      "text/plain": [
       "<Figure size 432x288 with 1 Axes>"
      ]
     },
     "metadata": {},
     "output_type": "display_data"
    }
   ],
   "source": [
    "plt.hist(df1_by_users.Rating, log = True)\n",
    "plt.show()"
   ]
  },
  {
   "cell_type": "markdown",
   "id": "fc201d41",
   "metadata": {},
   "source": [
    "3. Qualiffications' distribution"
   ]
  },
  {
   "cell_type": "code",
   "execution_count": 20,
   "id": "cc2cb3ba",
   "metadata": {},
   "outputs": [
    {
     "data": {
      "image/png": "[encoded data removed]",
      "text/plain": [
       "<Figure size 432x288 with 1 Axes>"
      ]
     },
     "metadata": {},
     "output_type": "display_data"
    }
   ],
   "source": [
    "definitive_df['Rating'].hist()\n",
    "plt.show()"
   ]
  },
  {
   "cell_type": "markdown",
   "id": "7f8a6173",
   "metadata": {},
   "source": [
    "I may conclude the mostly users have qualiffied 3 - 4 the movies that they have seen. "
   ]
  },
  {
   "cell_type": "markdown",
   "id": "9155937a",
   "metadata": {},
   "source": [
    "4. Qualiffication's distributions for each user"
   ]
  },
  {
   "cell_type": "code",
   "execution_count": 21,
   "id": "a7662e93",
   "metadata": {},
   "outputs": [
    {
     "data": {
      "text/plain": [
       "305344     4467\n",
       "387418     4422\n",
       "2439493    4195\n",
       "1664010    4019\n",
       "2118461    3769\n",
       "           ... \n",
       "1300341       1\n",
       "2550360       1\n",
       "11848         1\n",
       "930788        1\n",
       "594210        1\n",
       "Name: User, Length: 470758, dtype: int64"
      ]
     },
     "execution_count": 21,
     "metadata": {},
     "output_type": "execute_result"
    }
   ],
   "source": [
    "quaff_user = definitive_df.User.value_counts()\n",
    "quaff_user"
   ]
  },
  {
   "cell_type": "code",
   "execution_count": 22,
   "id": "5279e542",
   "metadata": {},
   "outputs": [
    {
     "data": {
      "text/plain": [
       "<AxesSubplot:>"
      ]
     },
     "execution_count": 22,
     "metadata": {},
     "output_type": "execute_result"
    },
    {
     "data": {
      "image/png": "[encoded data removed]",
      "text/plain": [
       "<Figure size 432x288 with 1 Axes>"
      ]
     },
     "metadata": {},
     "output_type": "display_data"
    }
   ],
   "source": [
    "quaff_user.hist(log = True)\n"
   ]
  },
  {
   "cell_type": "markdown",
   "id": "9b83c54f",
   "metadata": {},
   "source": [
    "5. What is the movie with the highest qualiffication, how many qualiffications it has and what is the lowest qualiffication movie?"
   ]
  },
  {
   "cell_type": "code",
   "execution_count": 23,
   "id": "0562f906",
   "metadata": {},
   "outputs": [
    {
     "data": {
      "text/plain": [
       "Name\n",
       "The Knights Templar                                   193941\n",
       "Free Willy                                            162597\n",
       "Jekyll & Hyde: The Musical                            160454\n",
       "Drive Well                                            156183\n",
       "The Masque of the Red Death / The Premature Burial    154832\n",
       "                                                       ...  \n",
       "Suzhou River                                              44\n",
       "Earth 2: The Complete Series                              43\n",
       "Black and White                                           42\n",
       "Shadow of the Vampire                                     39\n",
       "Mule Skinner Blues                                        36\n",
       "Name: Movie_id, Length: 4499, dtype: int64"
      ]
     },
     "execution_count": 23,
     "metadata": {},
     "output_type": "execute_result"
    }
   ],
   "source": [
    "movies_seen = definitive_df.Movie_id.value_counts()\n",
    "movies_seen.index = df_title.iloc[movies_seen.index].Name\n",
    "movies_seen"
   ]
  },
  {
   "cell_type": "code",
   "execution_count": 24,
   "id": "7434064a",
   "metadata": {},
   "outputs": [
    {
     "data": {
      "image/png": "[encoded data removed]",
      "text/plain": [
       "<Figure size 576x288 with 1 Axes>"
      ]
     },
     "metadata": {},
     "output_type": "display_data"
    }
   ],
   "source": [
    "plt.figure(figsize = (8,4))\n",
    "movies_seen.hist(log = True, bins = 20)\n",
    "plt.show()"
   ]
  },
  {
   "cell_type": "markdown",
   "id": "c7de06b6",
   "metadata": {},
   "source": [
    "# Modeling"
   ]
  },
  {
   "cell_type": "code",
   "execution_count": 25,
   "id": "d43a2797",
   "metadata": {},
   "outputs": [],
   "source": [
    "from surprise import Dataset\n",
    "from surprise import Reader\n",
    "from surprise.model_selection import train_test_split"
   ]
  },
  {
   "cell_type": "markdown",
   "id": "ed88b874",
   "metadata": {},
   "source": [
    "I will transform the dataset into format for being read with the library surprise"
   ]
  },
  {
   "cell_type": "code",
   "execution_count": 26,
   "id": "71ce7582",
   "metadata": {},
   "outputs": [],
   "source": [
    "reader = Reader()"
   ]
  },
  {
   "cell_type": "markdown",
   "id": "c9cc9ff3",
   "metadata": {},
   "source": []
  },
  {
   "cell_type": "markdown",
   "id": "f46818e1",
   "metadata": {},
   "source": [
    "Then, I just work with 100.000 data because I assume that rendering the complete dataset will cost a lot of computing resources and I will instance it."
   ]
  },
  {
   "cell_type": "code",
   "execution_count": 27,
   "id": "c4801b84",
   "metadata": {},
   "outputs": [],
   "source": [
    "N_filas = 100000\n",
    "data = Dataset.load_from_df(definitive_df[['User' , 'Movie_id' , 'Rating']][:N_filas] , reader)"
   ]
  },
  {
   "cell_type": "code",
   "execution_count": 28,
   "id": "d7830b5a",
   "metadata": {},
   "outputs": [],
   "source": [
    "trainset , testset = train_test_split(data , test_size = .25)"
   ]
  },
  {
   "cell_type": "markdown",
   "id": "f1eca5fb",
   "metadata": {},
   "source": [
    "Let's train a SVD algorithm:"
   ]
  },
  {
   "cell_type": "code",
   "execution_count": 29,
   "id": "a6b1d10e",
   "metadata": {},
   "outputs": [],
   "source": [
    "from surprise import SVD\n",
    "algo = SVD()"
   ]
  },
  {
   "cell_type": "code",
   "execution_count": 30,
   "id": "5cf7af7f",
   "metadata": {},
   "outputs": [
    {
     "data": {
      "text/plain": [
       "<surprise.prediction_algorithms.matrix_factorization.SVD at 0x1ff9b4c2cd0>"
      ]
     },
     "execution_count": 30,
     "metadata": {},
     "output_type": "execute_result"
    }
   ],
   "source": [
    "algo.fit(trainset)"
   ]
  },
  {
   "cell_type": "code",
   "execution_count": 31,
   "id": "c4295d6f",
   "metadata": {},
   "outputs": [],
   "source": [
    "predictions = algo.test(testset)"
   ]
  },
  {
   "cell_type": "code",
   "execution_count": 32,
   "id": "62b82103",
   "metadata": {},
   "outputs": [
    {
     "data": {
      "text/plain": [
       "Prediction(uid=263736, iid=17, r_ui=3.0, est=2.886308098211497, details={'was_impossible': False})"
      ]
     },
     "execution_count": 32,
     "metadata": {},
     "output_type": "execute_result"
    }
   ],
   "source": [
    "predictions[1]"
   ]
  },
  {
   "cell_type": "markdown",
   "id": "bab8159e",
   "metadata": {},
   "source": [
    "The previous prediction indicates the user 263736 rated 3.0 the movie seen and our IMPORTANT stimated prediction was 2.88 so we can have a good signal that it works but now I have to check the prediction with movies that user didn't see yet..."
   ]
  },
  {
   "cell_type": "code",
   "execution_count": 33,
   "id": "65278a1b",
   "metadata": {},
   "outputs": [
    {
     "data": {
      "text/plain": [
       "Prediction(uid=1328945, iid=28, r_ui=None, est=3.620166410384627, details={'was_impossible': False})"
      ]
     },
     "execution_count": 33,
     "metadata": {},
     "output_type": "execute_result"
    }
   ],
   "source": [
    "algo.predict(1328945 , 28)"
   ]
  },
  {
   "cell_type": "markdown",
   "id": "7a7d1299",
   "metadata": {},
   "source": [
    "Apparently this user qualiffied the movie 28 with 3.6 without been seeing it"
   ]
  },
  {
   "cell_type": "markdown",
   "id": "99fee2bb",
   "metadata": {},
   "source": [
    "I will explore an user and see wich movies liked him and which ones may recommends our system:"
   ]
  },
  {
   "cell_type": "code",
   "execution_count": 34,
   "id": "299392d9",
   "metadata": {},
   "outputs": [
    {
     "data": {
      "text/html": [
       "<div>\n",
       "<style scoped>\n",
       "    .dataframe tbody tr th:only-of-type {\n",
       "        vertical-align: middle;\n",
       "    }\n",
       "\n",
       "    .dataframe tbody tr th {\n",
       "        vertical-align: top;\n",
       "    }\n",
       "\n",
       "    .dataframe thead th {\n",
       "        text-align: right;\n",
       "    }\n",
       "</style>\n",
       "<table border=\"1\" class=\"dataframe\">\n",
       "  <thead>\n",
       "    <tr style=\"text-align: right;\">\n",
       "      <th></th>\n",
       "      <th>User</th>\n",
       "      <th>Rating</th>\n",
       "      <th>Movie_id</th>\n",
       "      <th>Name</th>\n",
       "    </tr>\n",
       "  </thead>\n",
       "  <tbody>\n",
       "    <tr>\n",
       "      <th>0</th>\n",
       "      <td>1539350</td>\n",
       "      <td>5</td>\n",
       "      <td>269</td>\n",
       "      <td>Parenthood</td>\n",
       "    </tr>\n",
       "    <tr>\n",
       "      <th>1</th>\n",
       "      <td>1539350</td>\n",
       "      <td>5</td>\n",
       "      <td>270</td>\n",
       "      <td>Sex and the City: Season 4</td>\n",
       "    </tr>\n",
       "    <tr>\n",
       "      <th>2</th>\n",
       "      <td>1539350</td>\n",
       "      <td>5</td>\n",
       "      <td>406</td>\n",
       "      <td>Hostage</td>\n",
       "    </tr>\n",
       "    <tr>\n",
       "      <th>3</th>\n",
       "      <td>1539350</td>\n",
       "      <td>5</td>\n",
       "      <td>1202</td>\n",
       "      <td>National Lampoon's Vacation</td>\n",
       "    </tr>\n",
       "    <tr>\n",
       "      <th>4</th>\n",
       "      <td>1539350</td>\n",
       "      <td>5</td>\n",
       "      <td>2862</td>\n",
       "      <td>The Silence of the Lambs</td>\n",
       "    </tr>\n",
       "    <tr>\n",
       "      <th>5</th>\n",
       "      <td>1539350</td>\n",
       "      <td>5</td>\n",
       "      <td>3151</td>\n",
       "      <td>Napoleon Dynamite</td>\n",
       "    </tr>\n",
       "    <tr>\n",
       "      <th>6</th>\n",
       "      <td>1539350</td>\n",
       "      <td>5</td>\n",
       "      <td>3605</td>\n",
       "      <td>The Wizard of Oz: Collector's Edition</td>\n",
       "    </tr>\n",
       "    <tr>\n",
       "      <th>7</th>\n",
       "      <td>1539350</td>\n",
       "      <td>5</td>\n",
       "      <td>3928</td>\n",
       "      <td>Nip/Tuck: Season 2</td>\n",
       "    </tr>\n",
       "    <tr>\n",
       "      <th>8</th>\n",
       "      <td>1539350</td>\n",
       "      <td>5</td>\n",
       "      <td>4159</td>\n",
       "      <td>Barbershop</td>\n",
       "    </tr>\n",
       "  </tbody>\n",
       "</table>\n",
       "</div>"
      ],
      "text/plain": [
       "      User  Rating  Movie_id                                   Name\n",
       "0  1539350       5       269                             Parenthood\n",
       "1  1539350       5       270             Sex and the City: Season 4\n",
       "2  1539350       5       406                                Hostage\n",
       "3  1539350       5      1202            National Lampoon's Vacation\n",
       "4  1539350       5      2862               The Silence of the Lambs\n",
       "5  1539350       5      3151                      Napoleon Dynamite\n",
       "6  1539350       5      3605  The Wizard of Oz: Collector's Edition\n",
       "7  1539350       5      3928                     Nip/Tuck: Season 2\n",
       "8  1539350       5      4159                             Barbershop"
      ]
     },
     "execution_count": 34,
     "metadata": {},
     "output_type": "execute_result"
    }
   ],
   "source": [
    "user = 1539350\n",
    "rating = 5\n",
    "df_user = definitive_df[(definitive_df['User'] == user) & (definitive_df['Rating'] >= rating)]\n",
    "df_user = df_user.reset_index(drop = True)\n",
    "df_user['Name'] = df_title['Name'].loc[df_user.Movie_id].values\n",
    "df_user"
   ]
  },
  {
   "cell_type": "markdown",
   "id": "8494f182",
   "metadata": {},
   "source": [
    "I will create where save the recommendations:"
   ]
  },
  {
   "cell_type": "code",
   "execution_count": 36,
   "id": "8987bb9c",
   "metadata": {},
   "outputs": [
    {
     "name": "stdout",
     "output_type": "stream",
     "text": [
      "(4499, 1)\n"
     ]
    },
    {
     "data": {
      "text/html": [
       "<div>\n",
       "<style scoped>\n",
       "    .dataframe tbody tr th:only-of-type {\n",
       "        vertical-align: middle;\n",
       "    }\n",
       "\n",
       "    .dataframe tbody tr th {\n",
       "        vertical-align: top;\n",
       "    }\n",
       "\n",
       "    .dataframe thead th {\n",
       "        text-align: right;\n",
       "    }\n",
       "</style>\n",
       "<table border=\"1\" class=\"dataframe\">\n",
       "  <thead>\n",
       "    <tr style=\"text-align: right;\">\n",
       "      <th></th>\n",
       "      <th>Name</th>\n",
       "    </tr>\n",
       "    <tr>\n",
       "      <th>Movie_id</th>\n",
       "      <th></th>\n",
       "    </tr>\n",
       "  </thead>\n",
       "  <tbody>\n",
       "    <tr>\n",
       "      <th>1</th>\n",
       "      <td>Dinosaur Planet</td>\n",
       "    </tr>\n",
       "    <tr>\n",
       "      <th>2</th>\n",
       "      <td>Isle of Man TT 2004 Review</td>\n",
       "    </tr>\n",
       "    <tr>\n",
       "      <th>3</th>\n",
       "      <td>Character</td>\n",
       "    </tr>\n",
       "    <tr>\n",
       "      <th>4</th>\n",
       "      <td>Paula Abdul's Get Up &amp; Dance</td>\n",
       "    </tr>\n",
       "    <tr>\n",
       "      <th>5</th>\n",
       "      <td>The Rise and Fall of ECW</td>\n",
       "    </tr>\n",
       "  </tbody>\n",
       "</table>\n",
       "</div>"
      ],
      "text/plain": [
       "                                  Name\n",
       "Movie_id                              \n",
       "1                      Dinosaur Planet\n",
       "2           Isle of Man TT 2004 Review\n",
       "3                            Character\n",
       "4         Paula Abdul's Get Up & Dance\n",
       "5             The Rise and Fall of ECW"
      ]
     },
     "execution_count": 36,
     "metadata": {},
     "output_type": "execute_result"
    }
   ],
   "source": [
    "user_recommendations = df_title.iloc[:4499].copy()\n",
    "print(user_recommendations.shape)\n",
    "user_recommendations.head()"
   ]
  },
  {
   "cell_type": "markdown",
   "id": "c91cfcd4",
   "metadata": {},
   "source": [
    "Let's take out the movies that he already have seen from dataset"
   ]
  },
  {
   "cell_type": "code",
   "execution_count": 39,
   "id": "a691cbbd",
   "metadata": {},
   "outputs": [
    {
     "name": "stdout",
     "output_type": "stream",
     "text": [
      "(97, 3)\n"
     ]
    },
    {
     "data": {
      "text/html": [
       "<div>\n",
       "<style scoped>\n",
       "    .dataframe tbody tr th:only-of-type {\n",
       "        vertical-align: middle;\n",
       "    }\n",
       "\n",
       "    .dataframe tbody tr th {\n",
       "        vertical-align: top;\n",
       "    }\n",
       "\n",
       "    .dataframe thead th {\n",
       "        text-align: right;\n",
       "    }\n",
       "</style>\n",
       "<table border=\"1\" class=\"dataframe\">\n",
       "  <thead>\n",
       "    <tr style=\"text-align: right;\">\n",
       "      <th></th>\n",
       "      <th>User</th>\n",
       "      <th>Rating</th>\n",
       "      <th>Movie_id</th>\n",
       "    </tr>\n",
       "  </thead>\n",
       "  <tbody>\n",
       "    <tr>\n",
       "      <th>219870</th>\n",
       "      <td>1539350</td>\n",
       "      <td>3</td>\n",
       "      <td>33</td>\n",
       "    </tr>\n",
       "    <tr>\n",
       "      <th>409717</th>\n",
       "      <td>1539350</td>\n",
       "      <td>4</td>\n",
       "      <td>111</td>\n",
       "    </tr>\n",
       "    <tr>\n",
       "      <th>445206</th>\n",
       "      <td>1539350</td>\n",
       "      <td>3</td>\n",
       "      <td>127</td>\n",
       "    </tr>\n",
       "    <tr>\n",
       "      <th>664099</th>\n",
       "      <td>1539350</td>\n",
       "      <td>4</td>\n",
       "      <td>175</td>\n",
       "    </tr>\n",
       "    <tr>\n",
       "      <th>894718</th>\n",
       "      <td>1539350</td>\n",
       "      <td>4</td>\n",
       "      <td>197</td>\n",
       "    </tr>\n",
       "  </tbody>\n",
       "</table>\n",
       "</div>"
      ],
      "text/plain": [
       "           User  Rating  Movie_id\n",
       "219870  1539350       3        33\n",
       "409717  1539350       4       111\n",
       "445206  1539350       3       127\n",
       "664099  1539350       4       175\n",
       "894718  1539350       4       197"
      ]
     },
     "execution_count": 39,
     "metadata": {},
     "output_type": "execute_result"
    }
   ],
   "source": [
    "user_seen = definitive_df[definitive_df['User'] == user]\n",
    "print(user_seen.shape)\n",
    "user_seen.head()"
   ]
  },
  {
   "cell_type": "code",
   "execution_count": 40,
   "id": "b3cf8c8e",
   "metadata": {},
   "outputs": [
    {
     "data": {
      "text/html": [
       "<div>\n",
       "<style scoped>\n",
       "    .dataframe tbody tr th:only-of-type {\n",
       "        vertical-align: middle;\n",
       "    }\n",
       "\n",
       "    .dataframe tbody tr th {\n",
       "        vertical-align: top;\n",
       "    }\n",
       "\n",
       "    .dataframe thead th {\n",
       "        text-align: right;\n",
       "    }\n",
       "</style>\n",
       "<table border=\"1\" class=\"dataframe\">\n",
       "  <thead>\n",
       "    <tr style=\"text-align: right;\">\n",
       "      <th></th>\n",
       "      <th>Movie_id</th>\n",
       "      <th>Name</th>\n",
       "    </tr>\n",
       "  </thead>\n",
       "  <tbody>\n",
       "    <tr>\n",
       "      <th>0</th>\n",
       "      <td>1</td>\n",
       "      <td>Dinosaur Planet</td>\n",
       "    </tr>\n",
       "    <tr>\n",
       "      <th>1</th>\n",
       "      <td>2</td>\n",
       "      <td>Isle of Man TT 2004 Review</td>\n",
       "    </tr>\n",
       "    <tr>\n",
       "      <th>2</th>\n",
       "      <td>3</td>\n",
       "      <td>Character</td>\n",
       "    </tr>\n",
       "    <tr>\n",
       "      <th>3</th>\n",
       "      <td>4</td>\n",
       "      <td>Paula Abdul's Get Up &amp; Dance</td>\n",
       "    </tr>\n",
       "    <tr>\n",
       "      <th>4</th>\n",
       "      <td>5</td>\n",
       "      <td>The Rise and Fall of ECW</td>\n",
       "    </tr>\n",
       "  </tbody>\n",
       "</table>\n",
       "</div>"
      ],
      "text/plain": [
       "   Movie_id                          Name\n",
       "0         1               Dinosaur Planet\n",
       "1         2    Isle of Man TT 2004 Review\n",
       "2         3                     Character\n",
       "3         4  Paula Abdul's Get Up & Dance\n",
       "4         5      The Rise and Fall of ECW"
      ]
     },
     "execution_count": 40,
     "metadata": {},
     "output_type": "execute_result"
    }
   ],
   "source": [
    "user_recommendations.drop(user_seen.Movie_id, inplace = True)\n",
    "user_recommendations = user_recommendations.reset_index()\n",
    "user_recommendations.head()"
   ]
  },
  {
   "cell_type": "markdown",
   "id": "ff9a0bbe",
   "metadata": {},
   "source": [
    "And make the recommendations..."
   ]
  },
  {
   "cell_type": "code",
   "execution_count": 41,
   "id": "90398493",
   "metadata": {},
   "outputs": [],
   "source": [
    "user_recommendations['Estimate_score'] = user_recommendations['Movie_id'].apply(lambda x: algo.predict(user , x).est)"
   ]
  },
  {
   "cell_type": "code",
   "execution_count": 42,
   "id": "03e1a91c",
   "metadata": {},
   "outputs": [
    {
     "name": "stdout",
     "output_type": "stream",
     "text": [
      "    Movie_id                                               Name  \\\n",
      "12        13  Lord of the Rings: The Return of the King: Ext...   \n",
      "24        25      Inspector Morse 31: Death Is Now My Neighbour   \n",
      "4          5                           The Rise and Fall of ECW   \n",
      "27        28                                    Lilo and Stitch   \n",
      "0          1                                    Dinosaur Planet   \n",
      "17        18                                   Immortal Beloved   \n",
      "29        30                             Something's Gotta Give   \n",
      "28        29                                            Boycott   \n",
      "26        27  Sesame Street: Elmo's World: The Street We Liv...   \n",
      "2          3                                          Character   \n",
      "\n",
      "    Estimate_score  \n",
      "12        4.477639  \n",
      "24        3.976402  \n",
      "4         3.951230  \n",
      "27        3.854305  \n",
      "0         3.794345  \n",
      "17        3.767156  \n",
      "29        3.764874  \n",
      "28        3.708161  \n",
      "26        3.672546  \n",
      "2         3.640915  \n"
     ]
    }
   ],
   "source": [
    "user_recommendations = user_recommendations.sort_values('Estimate_score' , ascending = False)\n",
    "print(user_recommendations.head(10))"
   ]
  },
  {
   "cell_type": "markdown",
   "id": "fd7f4a9a",
   "metadata": {},
   "source": [
    "# Evaluation"
   ]
  },
  {
   "cell_type": "markdown",
   "id": "14dce445",
   "metadata": {},
   "source": [
    "I will evaluate the RMSE's error testset between the predictions and the true qualiffications that users have rated the movies "
   ]
  },
  {
   "cell_type": "code",
   "execution_count": 43,
   "id": "3bbc9ca8",
   "metadata": {},
   "outputs": [
    {
     "name": "stdout",
     "output_type": "stream",
     "text": [
      "RMSE: 1.0476\n"
     ]
    },
    {
     "data": {
      "text/plain": [
       "1.0476360752234426"
      ]
     },
     "execution_count": 43,
     "metadata": {},
     "output_type": "execute_result"
    }
   ],
   "source": [
    "from surprise import accuracy\n",
    "\n",
    "accuracy.rmse(predictions)"
   ]
  },
  {
   "cell_type": "markdown",
   "id": "fd1f97dd",
   "metadata": {},
   "source": [
    "The work is succesfully achieved getting a good prediction according the error nearly to 1.0 "
   ]
  },
  {
   "cell_type": "markdown",
   "id": "2f62a8e8",
   "metadata": {},
   "source": [
    "Now, I will try to optimize the parameters and comprove that this result is not a random result from my recommendation system model..."
   ]
  },
  {
   "cell_type": "code",
   "execution_count": 49,
   "id": "575c4d39",
   "metadata": {},
   "outputs": [],
   "source": [
    "from surprise.model_selection import cross_validate"
   ]
  },
  {
   "cell_type": "code",
   "execution_count": 51,
   "id": "096871e3",
   "metadata": {},
   "outputs": [
    {
     "name": "stdout",
     "output_type": "stream",
     "text": [
      "\n",
      " Factor numbers: 1\n",
      "Evaluating RMSE of algorithm SVD on 3 split(s).\n",
      "\n",
      "                  Fold 1  Fold 2  Fold 3  Mean    Std     \n",
      "RMSE (testset)    1.0450  1.0474  1.0424  1.0449  0.0020  \n",
      "Fit time          2.78    2.84    2.81    2.81    0.03    \n",
      "Test time         0.85    1.05    1.04    0.98    0.09    \n",
      "\n",
      " Factor numbers: 2\n",
      "Evaluating RMSE of algorithm SVD on 3 split(s).\n",
      "\n",
      "                  Fold 1  Fold 2  Fold 3  Mean    Std     \n",
      "RMSE (testset)    1.0469  1.0393  1.0493  1.0452  0.0042  \n",
      "Fit time          2.90    2.85    2.90    2.88    0.02    \n",
      "Test time         1.08    0.79    0.79    0.89    0.14    \n",
      "\n",
      " Factor numbers: 4\n",
      "Evaluating RMSE of algorithm SVD on 3 split(s).\n",
      "\n",
      "                  Fold 1  Fold 2  Fold 3  Mean    Std     \n",
      "RMSE (testset)    1.0498  1.0456  1.0442  1.0466  0.0024  \n",
      "Fit time          3.19    3.38    3.44    3.34    0.11    \n",
      "Test time         0.80    0.86    0.84    0.84    0.03    \n",
      "\n",
      " Factor numbers: 8\n",
      "Evaluating RMSE of algorithm SVD on 3 split(s).\n",
      "\n",
      "                  Fold 1  Fold 2  Fold 3  Mean    Std     \n",
      "RMSE (testset)    1.0497  1.0452  1.0447  1.0465  0.0022  \n",
      "Fit time          3.91    3.88    3.80    3.86    0.05    \n",
      "Test time         1.18    1.11    1.09    1.13    0.04    \n",
      "\n",
      " Factor numbers: 16\n",
      "Evaluating RMSE of algorithm SVD on 3 split(s).\n",
      "\n",
      "                  Fold 1  Fold 2  Fold 3  Mean    Std     \n",
      "RMSE (testset)    1.0490  1.0428  1.0508  1.0475  0.0034  \n",
      "Fit time          4.74    4.60    4.71    4.68    0.06    \n",
      "Test time         1.10    0.80    0.78    0.89    0.15    \n",
      "\n",
      " Factor numbers: 32\n",
      "Evaluating RMSE of algorithm SVD on 3 split(s).\n",
      "\n",
      "                  Fold 1  Fold 2  Fold 3  Mean    Std     \n",
      "RMSE (testset)    1.0472  1.0510  1.0533  1.0505  0.0025  \n",
      "Fit time          6.58    6.52    6.64    6.58    0.05    \n",
      "Test time         0.81    0.78    0.81    0.80    0.01    \n",
      "\n",
      " Factor numbers: 64\n",
      "Evaluating RMSE of algorithm SVD on 3 split(s).\n",
      "\n",
      "                  Fold 1  Fold 2  Fold 3  Mean    Std     \n",
      "RMSE (testset)    1.0443  1.0504  1.0554  1.0500  0.0045  \n",
      "Fit time          10.31   10.68   10.40   10.46   0.16    \n",
      "Test time         0.80    1.03    1.06    0.97    0.12    \n",
      "\n",
      " Factor numbers: 128\n",
      "Evaluating RMSE of algorithm SVD on 3 split(s).\n",
      "\n",
      "                  Fold 1  Fold 2  Fold 3  Mean    Std     \n",
      "RMSE (testset)    1.0518  1.0503  1.0523  1.0515  0.0009  \n",
      "Fit time          18.17   18.10   18.13   18.13   0.03    \n",
      "Test time         1.07    0.82    0.80    0.90    0.12    \n",
      "\n",
      " Factor numbers: 256\n",
      "Evaluating RMSE of algorithm SVD on 3 split(s).\n",
      "\n",
      "                  Fold 1  Fold 2  Fold 3  Mean    Std     \n",
      "RMSE (testset)    1.0552  1.0496  1.0548  1.0532  0.0025  \n",
      "Fit time          34.02   34.80   33.63   34.15   0.49    \n",
      "Test time         0.90    0.81    0.82    0.84    0.04    \n"
     ]
    }
   ],
   "source": [
    "rmse_test_means = []\n",
    "factors = [1,2,4,8,16,32,64,128,256]\n",
    "\n",
    "for factor in factors:\n",
    "    print(f'\\n Factor numbers: {factor}')\n",
    "    algo = SVD(n_factors = factor)\n",
    "    cv = cross_validate(algo , data , measures = ['RMSE'] , cv = 3 , verbose = True)\n",
    "    rmse_test_means.append(np.mean(cv['test_rmse']))"
   ]
  },
  {
   "cell_type": "code",
   "execution_count": 52,
   "id": "47d118e1",
   "metadata": {},
   "outputs": [
    {
     "data": {
      "image/png": "[encoded data removed]",
      "text/plain": [
       "<Figure size 432x288 with 1 Axes>"
      ]
     },
     "metadata": {},
     "output_type": "display_data"
    }
   ],
   "source": [
    "plt.scatter(factors , rmse_test_means)\n",
    "plt.xlabel('Number Factors')\n",
    "plt.ylabel('Error RMSE')\n",
    "plt.show()"
   ]
  },
  {
   "cell_type": "markdown",
   "id": "cc0fe1bd",
   "metadata": {},
   "source": [
    "So, according the graphic the minimum computing exigency and the best minimum error in the model is just with a lower factor because it gives a better and same results as the others keeping the computing performance"
   ]
  },
  {
   "cell_type": "markdown",
   "id": "7c47dd78",
   "metadata": {},
   "source": [
    "meanwhile, I trained a SVD model and it uses gradient descense to minimize the cost fuction and the next step is to see the adeacuated values using GridSearhCV"
   ]
  },
  {
   "cell_type": "code",
   "execution_count": 53,
   "id": "8007dcae",
   "metadata": {},
   "outputs": [],
   "source": [
    "from surprise.model_selection import GridSearchCV"
   ]
  },
  {
   "cell_type": "code",
   "execution_count": 55,
   "id": "7b55b141",
   "metadata": {},
   "outputs": [],
   "source": [
    "param_grid = {'n_factors': [5,50,100] , 'n_epochs' : [5,10,20] , 'lr_all' : [0.001 , 0.002 , 0.005],\n",
    "             'reg_all' : [0.002 , 0.02 , 0.2]}\n",
    "gs = GridSearchCV(SVD , param_grid , measures = ['rmse'] , cv = 3 , n_jobs = -1)\n",
    "gs.fit(data)"
   ]
  },
  {
   "cell_type": "code",
   "execution_count": 56,
   "id": "6dd3fc1e",
   "metadata": {},
   "outputs": [
    {
     "name": "stdout",
     "output_type": "stream",
     "text": [
      "1.0460831162180164\n",
      "{'n_factors': 5, 'n_epochs': 20, 'lr_all': 0.005, 'reg_all': 0.02}\n"
     ]
    }
   ],
   "source": [
    "print(gs.best_score['rmse'])\n",
    "print(gs.best_params['rmse'])"
   ]
  },
  {
   "cell_type": "markdown",
   "id": "1e2706e0",
   "metadata": {},
   "source": [
    "Here I have comproved the best RMSE that I previously got with accuracy score evaluation in this case with GridSearch with I number factors equals to 5."
   ]
  },
  {
   "cell_type": "code",
   "execution_count": null,
   "id": "4038d12f",
   "metadata": {},
   "outputs": [],
   "source": []
  }
 ],
 "metadata": {
  "kernelspec": {
   "display_name": "Python 3 (ipykernel)",
   "language": "python",
   "name": "python3"
  },
  "language_info": {
   "codemirror_mode": {
    "name": "ipython",
    "version": 3
   },
   "file_extension": ".py",
   "mimetype": "text/x-python",
   "name": "python",
   "nbconvert_exporter": "python",
   "pygments_lexer": "ipython3",
   "version": "3.9.12"
  }
 },
 "nbformat": 4,
 "nbformat_minor": 5
}
