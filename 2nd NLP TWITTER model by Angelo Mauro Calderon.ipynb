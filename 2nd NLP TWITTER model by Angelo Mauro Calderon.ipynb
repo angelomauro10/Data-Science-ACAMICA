{
 "cells": [
  {
   "cell_type": "markdown",
   "id": "23f28acd",
   "metadata": {},
   "source": [
    "# 2nd NPL model by Angelo Mauro Calderon"
   ]
  },
  {
   "cell_type": "markdown",
   "id": "ef177f5f",
   "metadata": {},
   "source": [
    "I will work in this project with Natural Processing Languaje for a Sarcasm Detection model using a dataset taken from:\n",
    "Kaggle: https://www.kaggle.com/datasets/rmisra/news-headlines-dataset-for-sarcasm-detection\n",
    "\n",
    "This file contains a lot of twitter's recompilation wich many comments has a Sarcastic intenction and I will look for a solution to how identify these sarcastics comments trying to study this phenomenon."
   ]
  },
  {
   "cell_type": "code",
   "execution_count": 1,
   "id": "e2dd97bb",
   "metadata": {},
   "outputs": [
    {
     "name": "stderr",
     "output_type": "stream",
     "text": [
      "[nltk_data] Downloading package punkt to\n",
      "[nltk_data]     C:\\Users\\Angel\\AppData\\Roaming\\nltk_data...\n",
      "[nltk_data]   Package punkt is already up-to-date!\n",
      "[nltk_data] Downloading package stopwords to\n",
      "[nltk_data]     C:\\Users\\Angel\\AppData\\Roaming\\nltk_data...\n",
      "[nltk_data]   Package stopwords is already up-to-date!\n"
     ]
    },
    {
     "data": {
      "text/plain": [
       "True"
      ]
     },
     "execution_count": 1,
     "metadata": {},
     "output_type": "execute_result"
    }
   ],
   "source": [
    "import itertools\n",
    "import numpy as np\n",
    "import pandas as pd\n",
    "import matplotlib.pyplot as plt\n",
    "import seaborn as sns\n",
    "sns.set()\n",
    "import nltk\n",
    "\n",
    "nltk.download('punkt')\n",
    "nltk.download('stopwords')"
   ]
  },
  {
   "cell_type": "markdown",
   "id": "42ec4c2a",
   "metadata": {},
   "source": [
    "# EDA"
   ]
  },
  {
   "cell_type": "code",
   "execution_count": 2,
   "id": "51b2e8dd",
   "metadata": {},
   "outputs": [
    {
     "data": {
      "text/html": [
       "<div>\n",
       "<style scoped>\n",
       "    .dataframe tbody tr th:only-of-type {\n",
       "        vertical-align: middle;\n",
       "    }\n",
       "\n",
       "    .dataframe tbody tr th {\n",
       "        vertical-align: top;\n",
       "    }\n",
       "\n",
       "    .dataframe thead th {\n",
       "        text-align: right;\n",
       "    }\n",
       "</style>\n",
       "<table border=\"1\" class=\"dataframe\">\n",
       "  <thead>\n",
       "    <tr style=\"text-align: right;\">\n",
       "      <th></th>\n",
       "      <th>article_link</th>\n",
       "      <th>headline</th>\n",
       "      <th>is_sarcastic</th>\n",
       "    </tr>\n",
       "  </thead>\n",
       "  <tbody>\n",
       "    <tr>\n",
       "      <th>5496</th>\n",
       "      <td>https://www.huffingtonpost.com/entry/georgia-p...</td>\n",
       "      <td>georgia to provide planned parenthood with fre...</td>\n",
       "      <td>0</td>\n",
       "    </tr>\n",
       "    <tr>\n",
       "      <th>26166</th>\n",
       "      <td>https://politics.theonion.com/epa-didnt-know-a...</td>\n",
       "      <td>epa didn't know anybody was still drinking water</td>\n",
       "      <td>1</td>\n",
       "    </tr>\n",
       "    <tr>\n",
       "      <th>6565</th>\n",
       "      <td>https://www.theonion.com/report-92-of-american...</td>\n",
       "      <td>report: 92% of americans would have gotten ove...</td>\n",
       "      <td>1</td>\n",
       "    </tr>\n",
       "    <tr>\n",
       "      <th>22254</th>\n",
       "      <td>https://local.theonion.com/couple-dressed-as-m...</td>\n",
       "      <td>couple dressed as mario and luigi drunkenly ma...</td>\n",
       "      <td>1</td>\n",
       "    </tr>\n",
       "    <tr>\n",
       "      <th>16801</th>\n",
       "      <td>https://www.huffingtonpost.com/entry/premature...</td>\n",
       "      <td>air pollution linked to millions of premature ...</td>\n",
       "      <td>0</td>\n",
       "    </tr>\n",
       "    <tr>\n",
       "      <th>3441</th>\n",
       "      <td>https://www.huffingtonpost.com/entry/the-ultim...</td>\n",
       "      <td>the ultimate goal in grief: embracing a new life</td>\n",
       "      <td>0</td>\n",
       "    </tr>\n",
       "    <tr>\n",
       "      <th>952</th>\n",
       "      <td>https://www.huffingtonpost.comhttps://www.wash...</td>\n",
       "      <td>george will trashes bill o'reilly: 'wise, he i...</td>\n",
       "      <td>0</td>\n",
       "    </tr>\n",
       "    <tr>\n",
       "      <th>26336</th>\n",
       "      <td>https://www.theonion.com/congolese-rebel-cant-...</td>\n",
       "      <td>congolese rebel can't bring himself to care ab...</td>\n",
       "      <td>1</td>\n",
       "    </tr>\n",
       "    <tr>\n",
       "      <th>2053</th>\n",
       "      <td>https://www.huffingtonpost.com/entry/patton-os...</td>\n",
       "      <td>patton oswalt brings late wife's newly publish...</td>\n",
       "      <td>0</td>\n",
       "    </tr>\n",
       "    <tr>\n",
       "      <th>23427</th>\n",
       "      <td>https://politics.theonion.com/fbi-raids-michae...</td>\n",
       "      <td>fbi raids michael cohen's office to get closer...</td>\n",
       "      <td>1</td>\n",
       "    </tr>\n",
       "  </tbody>\n",
       "</table>\n",
       "</div>"
      ],
      "text/plain": [
       "                                            article_link  \\\n",
       "5496   https://www.huffingtonpost.com/entry/georgia-p...   \n",
       "26166  https://politics.theonion.com/epa-didnt-know-a...   \n",
       "6565   https://www.theonion.com/report-92-of-american...   \n",
       "22254  https://local.theonion.com/couple-dressed-as-m...   \n",
       "16801  https://www.huffingtonpost.com/entry/premature...   \n",
       "3441   https://www.huffingtonpost.com/entry/the-ultim...   \n",
       "952    https://www.huffingtonpost.comhttps://www.wash...   \n",
       "26336  https://www.theonion.com/congolese-rebel-cant-...   \n",
       "2053   https://www.huffingtonpost.com/entry/patton-os...   \n",
       "23427  https://politics.theonion.com/fbi-raids-michae...   \n",
       "\n",
       "                                                headline  is_sarcastic  \n",
       "5496   georgia to provide planned parenthood with fre...             0  \n",
       "26166   epa didn't know anybody was still drinking water             1  \n",
       "6565   report: 92% of americans would have gotten ove...             1  \n",
       "22254  couple dressed as mario and luigi drunkenly ma...             1  \n",
       "16801  air pollution linked to millions of premature ...             0  \n",
       "3441    the ultimate goal in grief: embracing a new life             0  \n",
       "952    george will trashes bill o'reilly: 'wise, he i...             0  \n",
       "26336  congolese rebel can't bring himself to care ab...             1  \n",
       "2053   patton oswalt brings late wife's newly publish...             0  \n",
       "23427  fbi raids michael cohen's office to get closer...             1  "
      ]
     },
     "execution_count": 2,
     "metadata": {},
     "output_type": "execute_result"
    }
   ],
   "source": [
    "dataset = pd.read_json('Downloads\\sarcasm_dataset\\Sarcasm_Headlines_Dataset.json' , lines = True)\n",
    "dataset.sample(10)"
   ]
  },
  {
   "cell_type": "markdown",
   "id": "b1b9c64a",
   "metadata": {},
   "source": [
    "I can see that this dataset has a binary feature named 'is_sarcastic' given 1 equals 'yes' and 0 equals 'no' so I will "
   ]
  },
  {
   "cell_type": "markdown",
   "id": "ded1d579",
   "metadata": {},
   "source": [
    "Dataset's form:"
   ]
  },
  {
   "cell_type": "code",
   "execution_count": 3,
   "id": "99f78ad3",
   "metadata": {},
   "outputs": [
    {
     "data": {
      "text/plain": [
       "(26709, 3)"
      ]
     },
     "execution_count": 3,
     "metadata": {},
     "output_type": "execute_result"
    }
   ],
   "source": [
    "dataset.shape"
   ]
  },
  {
   "cell_type": "markdown",
   "id": "68152b2a",
   "metadata": {},
   "source": [
    "I will choose a random instance and analize the respective comment:"
   ]
  },
  {
   "cell_type": "code",
   "execution_count": 4,
   "id": "ae258886",
   "metadata": {},
   "outputs": [
    {
     "name": "stdout",
     "output_type": "stream",
     "text": [
      "3822 marriage equality, but what about divorce?\n"
     ]
    }
   ],
   "source": [
    "index_random = np.random.randint( 0 , high = dataset.shape[0])\n",
    "header = dataset.iloc[index_random].headline\n",
    "print(index_random , header)"
   ]
  },
  {
   "cell_type": "markdown",
   "id": "5b41120c",
   "metadata": {},
   "source": [
    "Is this a sarcastic comment?\n",
    "I will comprove this text calling it based its 'is_sarcastic' column value."
   ]
  },
  {
   "cell_type": "code",
   "execution_count": 5,
   "id": "e05f7d31",
   "metadata": {},
   "outputs": [
    {
     "name": "stdout",
     "output_type": "stream",
     "text": [
      "3822 0\n"
     ]
    }
   ],
   "source": [
    "print(index_random , dataset.iloc[index_random].is_sarcastic)"
   ]
  },
  {
   "cell_type": "markdown",
   "id": "eed88433",
   "metadata": {},
   "source": [
    "for example, the previous text is not a sarcastic comment."
   ]
  },
  {
   "cell_type": "markdown",
   "id": "a22bb858",
   "metadata": {},
   "source": [
    "Null values?\n",
    "\n"
   ]
  },
  {
   "cell_type": "code",
   "execution_count": 6,
   "id": "47be5380",
   "metadata": {},
   "outputs": [
    {
     "data": {
      "text/plain": [
       "article_link    0\n",
       "headline        0\n",
       "is_sarcastic    0\n",
       "dtype: int64"
      ]
     },
     "execution_count": 6,
     "metadata": {},
     "output_type": "execute_result"
    }
   ],
   "source": [
    "dataset.isnull().sum()"
   ]
  },
  {
   "cell_type": "code",
   "execution_count": 7,
   "id": "a0a0a147",
   "metadata": {},
   "outputs": [
    {
     "name": "stdout",
     "output_type": "stream",
     "text": [
      "<class 'pandas.core.frame.DataFrame'>\n",
      "RangeIndex: 26709 entries, 0 to 26708\n",
      "Data columns (total 3 columns):\n",
      " #   Column        Non-Null Count  Dtype \n",
      "---  ------        --------------  ----- \n",
      " 0   article_link  26709 non-null  object\n",
      " 1   headline      26709 non-null  object\n",
      " 2   is_sarcastic  26709 non-null  int64 \n",
      "dtypes: int64(1), object(2)\n",
      "memory usage: 626.1+ KB\n"
     ]
    }
   ],
   "source": [
    "dataset.info()"
   ]
  },
  {
   "cell_type": "markdown",
   "id": "572a103b",
   "metadata": {},
   "source": [
    "duplicated values?\n"
   ]
  },
  {
   "cell_type": "code",
   "execution_count": 8,
   "id": "ffd631b0",
   "metadata": {},
   "outputs": [
    {
     "data": {
      "text/plain": [
       "107"
      ]
     },
     "execution_count": 8,
     "metadata": {},
     "output_type": "execute_result"
    }
   ],
   "source": [
    "dataset['headline'].duplicated().sum()"
   ]
  },
  {
   "cell_type": "markdown",
   "id": "9aaadfb9",
   "metadata": {},
   "source": [
    "I will drop out all the duplicated values"
   ]
  },
  {
   "cell_type": "code",
   "execution_count": 9,
   "id": "e9e5ad82",
   "metadata": {},
   "outputs": [],
   "source": [
    "dataset = dataset.drop(dataset[dataset['headline'].duplicated()].index , axis = 0)"
   ]
  },
  {
   "cell_type": "code",
   "execution_count": 10,
   "id": "8dd0a52b",
   "metadata": {},
   "outputs": [
    {
     "data": {
      "text/plain": [
       "0"
      ]
     },
     "execution_count": 10,
     "metadata": {},
     "output_type": "execute_result"
    }
   ],
   "source": [
    "dataset['headline'].duplicated().sum()"
   ]
  },
  {
   "cell_type": "markdown",
   "id": "f967afbe",
   "metadata": {},
   "source": [
    "I will check the 'is_sarcastic' column's distribution"
   ]
  },
  {
   "cell_type": "code",
   "execution_count": 11,
   "id": "a5e7dc27",
   "metadata": {},
   "outputs": [
    {
     "name": "stderr",
     "output_type": "stream",
     "text": [
      "C:\\Users\\Angel\\anaconda3\\lib\\site-packages\\seaborn\\_decorators.py:36: FutureWarning: Pass the following variable as a keyword arg: x. From version 0.12, the only valid positional argument will be `data`, and passing other arguments without an explicit keyword will result in an error or misinterpretation.\n",
      "  warnings.warn(\n"
     ]
    },
    {
     "data": {
      "image/png": "[encoded data removed]",
      "text/plain": [
       "<Figure size 432x288 with 1 Axes>"
      ]
     },
     "metadata": {},
     "output_type": "display_data"
    }
   ],
   "source": [
    "sns.countplot(dataset.is_sarcastic)\n",
    "plt.show()"
   ]
  },
  {
   "cell_type": "markdown",
   "id": "12f49244",
   "metadata": {},
   "source": [
    "I am going to aggrupate all the unique binary values creating a dataframe for each one."
   ]
  },
  {
   "cell_type": "markdown",
   "id": "5df57204",
   "metadata": {},
   "source": [
    "# Tokenize and drop out stopwords"
   ]
  },
  {
   "cell_type": "markdown",
   "id": "9a5039e5",
   "metadata": {},
   "source": [
    "Let's start with NO-SARCASM:"
   ]
  },
  {
   "cell_type": "code",
   "execution_count": 12,
   "id": "0a241fa5",
   "metadata": {},
   "outputs": [],
   "source": [
    "filterr = []\n",
    "\n",
    "if True:\n",
    "    filterr.append('u')\n",
    "    filterr.append('new')"
   ]
  },
  {
   "cell_type": "code",
   "execution_count": 13,
   "id": "4c751b07",
   "metadata": {},
   "outputs": [
    {
     "data": {
      "text/html": [
       "<div>\n",
       "<style scoped>\n",
       "    .dataframe tbody tr th:only-of-type {\n",
       "        vertical-align: middle;\n",
       "    }\n",
       "\n",
       "    .dataframe tbody tr th {\n",
       "        vertical-align: top;\n",
       "    }\n",
       "\n",
       "    .dataframe thead th {\n",
       "        text-align: right;\n",
       "    }\n",
       "</style>\n",
       "<table border=\"1\" class=\"dataframe\">\n",
       "  <thead>\n",
       "    <tr style=\"text-align: right;\">\n",
       "      <th></th>\n",
       "      <th>article_link</th>\n",
       "      <th>headline</th>\n",
       "      <th>is_sarcastic</th>\n",
       "    </tr>\n",
       "  </thead>\n",
       "  <tbody>\n",
       "    <tr>\n",
       "      <th>0</th>\n",
       "      <td>https://www.huffingtonpost.com/entry/versace-b...</td>\n",
       "      <td>former versace store clerk sues over secret 'b...</td>\n",
       "      <td>0</td>\n",
       "    </tr>\n",
       "    <tr>\n",
       "      <th>1</th>\n",
       "      <td>https://www.huffingtonpost.com/entry/roseanne-...</td>\n",
       "      <td>the 'roseanne' revival catches up to our thorn...</td>\n",
       "      <td>0</td>\n",
       "    </tr>\n",
       "    <tr>\n",
       "      <th>4</th>\n",
       "      <td>https://www.huffingtonpost.com/entry/jk-rowlin...</td>\n",
       "      <td>j.k. rowling wishes snape happy birthday in th...</td>\n",
       "      <td>0</td>\n",
       "    </tr>\n",
       "    <tr>\n",
       "      <th>5</th>\n",
       "      <td>https://www.huffingtonpost.com/entry/advancing...</td>\n",
       "      <td>advancing the world's women</td>\n",
       "      <td>0</td>\n",
       "    </tr>\n",
       "    <tr>\n",
       "      <th>6</th>\n",
       "      <td>https://www.huffingtonpost.com/entry/how-meat-...</td>\n",
       "      <td>the fascinating case for eating lab-grown meat</td>\n",
       "      <td>0</td>\n",
       "    </tr>\n",
       "  </tbody>\n",
       "</table>\n",
       "</div>"
      ],
      "text/plain": [
       "                                        article_link  \\\n",
       "0  https://www.huffingtonpost.com/entry/versace-b...   \n",
       "1  https://www.huffingtonpost.com/entry/roseanne-...   \n",
       "4  https://www.huffingtonpost.com/entry/jk-rowlin...   \n",
       "5  https://www.huffingtonpost.com/entry/advancing...   \n",
       "6  https://www.huffingtonpost.com/entry/how-meat-...   \n",
       "\n",
       "                                            headline  is_sarcastic  \n",
       "0  former versace store clerk sues over secret 'b...             0  \n",
       "1  the 'roseanne' revival catches up to our thorn...             0  \n",
       "4  j.k. rowling wishes snape happy birthday in th...             0  \n",
       "5                        advancing the world's women             0  \n",
       "6     the fascinating case for eating lab-grown meat             0  "
      ]
     },
     "execution_count": 13,
     "metadata": {},
     "output_type": "execute_result"
    }
   ],
   "source": [
    "data_no_sarcasm = dataset[dataset.is_sarcastic == 0]\n",
    "data_no_sarcasm.head()"
   ]
  },
  {
   "cell_type": "markdown",
   "id": "85ffe20e",
   "metadata": {},
   "source": [
    "I will specify two empty lists an then adding one per one value according to its headline's content already tokenized and the stopwords filtered:"
   ]
  },
  {
   "cell_type": "code",
   "execution_count": 14,
   "id": "25af26bb",
   "metadata": {},
   "outputs": [],
   "source": [
    "stopwords = nltk.corpus.stopwords.words('english')"
   ]
  },
  {
   "cell_type": "code",
   "execution_count": 15,
   "id": "0f887528",
   "metadata": {},
   "outputs": [],
   "source": [
    "all_no_sarcasm_headline = []\n",
    "\n",
    "for i in range(data_no_sarcasm.shape[0]):\n",
    "    headln = data_no_sarcasm.iloc[i].headline\n",
    "    headln = nltk.tokenize.RegexpTokenizer('[\\w]+').tokenize(headln)\n",
    "    headln = [word for word in headln if word not in stopwords]\n",
    "    headln = [word for word in headln if word not in filterr]\n",
    "    \n",
    "    all_no_sarcasm_headline.append(headln)\n",
    "    "
   ]
  },
  {
   "cell_type": "code",
   "execution_count": 16,
   "id": "5b4b2f35",
   "metadata": {},
   "outputs": [
    {
     "data": {
      "text/plain": [
       "['former',\n",
       " 'versace',\n",
       " 'store',\n",
       " 'clerk',\n",
       " 'sues',\n",
       " 'secret',\n",
       " 'black',\n",
       " 'code',\n",
       " 'minority',\n",
       " 'shoppers']"
      ]
     },
     "execution_count": 16,
     "metadata": {},
     "output_type": "execute_result"
    }
   ],
   "source": [
    "all_no_sarcasm_headline = list(itertools.chain(*all_no_sarcasm_headline))\n",
    "all_no_sarcasm_headline[0:10]"
   ]
  },
  {
   "cell_type": "markdown",
   "id": "14cdecc4",
   "metadata": {},
   "source": [
    "Now, order by frequency distribution of each word..."
   ]
  },
  {
   "cell_type": "code",
   "execution_count": 17,
   "id": "6f3a0de4",
   "metadata": {},
   "outputs": [
    {
     "data": {
      "text/plain": [
       "FreqDist({'trump': 1446, 'donald': 458, 'says': 349, 'women': 305, 'one': 268, 'year': 244, 'first': 242, 'world': 241, 'man': 241, 'people': 241, ...})"
      ]
     },
     "execution_count": 17,
     "metadata": {},
     "output_type": "execute_result"
    }
   ],
   "source": [
    "freq_no_sarcasm = nltk.FreqDist(all_no_sarcasm_headline)\n",
    "freq_no_sarcasm"
   ]
  },
  {
   "cell_type": "markdown",
   "id": "b9719e2d",
   "metadata": {},
   "source": [
    "and transform that frequency into dataframe"
   ]
  },
  {
   "cell_type": "code",
   "execution_count": 18,
   "id": "7f830c15",
   "metadata": {},
   "outputs": [
    {
     "data": {
      "text/html": [
       "<div>\n",
       "<style scoped>\n",
       "    .dataframe tbody tr th:only-of-type {\n",
       "        vertical-align: middle;\n",
       "    }\n",
       "\n",
       "    .dataframe tbody tr th {\n",
       "        vertical-align: top;\n",
       "    }\n",
       "\n",
       "    .dataframe thead th {\n",
       "        text-align: right;\n",
       "    }\n",
       "</style>\n",
       "<table border=\"1\" class=\"dataframe\">\n",
       "  <thead>\n",
       "    <tr style=\"text-align: right;\">\n",
       "      <th></th>\n",
       "      <th>Word</th>\n",
       "      <th>Frequency</th>\n",
       "    </tr>\n",
       "  </thead>\n",
       "  <tbody>\n",
       "    <tr>\n",
       "      <th>0</th>\n",
       "      <td>former</td>\n",
       "      <td>82</td>\n",
       "    </tr>\n",
       "    <tr>\n",
       "      <th>1</th>\n",
       "      <td>versace</td>\n",
       "      <td>1</td>\n",
       "    </tr>\n",
       "    <tr>\n",
       "      <th>2</th>\n",
       "      <td>store</td>\n",
       "      <td>14</td>\n",
       "    </tr>\n",
       "    <tr>\n",
       "      <th>3</th>\n",
       "      <td>clerk</td>\n",
       "      <td>5</td>\n",
       "    </tr>\n",
       "    <tr>\n",
       "      <th>4</th>\n",
       "      <td>sues</td>\n",
       "      <td>15</td>\n",
       "    </tr>\n",
       "  </tbody>\n",
       "</table>\n",
       "</div>"
      ],
      "text/plain": [
       "      Word  Frequency\n",
       "0   former         82\n",
       "1  versace          1\n",
       "2    store         14\n",
       "3    clerk          5\n",
       "4     sues         15"
      ]
     },
     "execution_count": 18,
     "metadata": {},
     "output_type": "execute_result"
    }
   ],
   "source": [
    "df_no_sarcasm = pd.DataFrame(list(freq_no_sarcasm.items()), columns = ['Word' , 'Frequency'])\n",
    "df_no_sarcasm.head()"
   ]
  },
  {
   "cell_type": "markdown",
   "id": "b3ac44c9",
   "metadata": {},
   "source": [
    "order the frequency's word values:"
   ]
  },
  {
   "cell_type": "code",
   "execution_count": 19,
   "id": "42790456",
   "metadata": {},
   "outputs": [
    {
     "data": {
      "text/html": [
       "<div>\n",
       "<style scoped>\n",
       "    .dataframe tbody tr th:only-of-type {\n",
       "        vertical-align: middle;\n",
       "    }\n",
       "\n",
       "    .dataframe tbody tr th {\n",
       "        vertical-align: top;\n",
       "    }\n",
       "\n",
       "    .dataframe thead th {\n",
       "        text-align: right;\n",
       "    }\n",
       "</style>\n",
       "<table border=\"1\" class=\"dataframe\">\n",
       "  <thead>\n",
       "    <tr style=\"text-align: right;\">\n",
       "      <th></th>\n",
       "      <th>Word</th>\n",
       "      <th>Frequency</th>\n",
       "    </tr>\n",
       "  </thead>\n",
       "  <tbody>\n",
       "    <tr>\n",
       "      <th>46</th>\n",
       "      <td>trump</td>\n",
       "      <td>1446</td>\n",
       "    </tr>\n",
       "    <tr>\n",
       "      <th>229</th>\n",
       "      <td>donald</td>\n",
       "      <td>458</td>\n",
       "    </tr>\n",
       "    <tr>\n",
       "      <th>421</th>\n",
       "      <td>says</td>\n",
       "      <td>349</td>\n",
       "    </tr>\n",
       "    <tr>\n",
       "      <th>29</th>\n",
       "      <td>women</td>\n",
       "      <td>305</td>\n",
       "    </tr>\n",
       "    <tr>\n",
       "      <th>258</th>\n",
       "      <td>one</td>\n",
       "      <td>268</td>\n",
       "    </tr>\n",
       "  </tbody>\n",
       "</table>\n",
       "</div>"
      ],
      "text/plain": [
       "       Word  Frequency\n",
       "46    trump       1446\n",
       "229  donald        458\n",
       "421    says        349\n",
       "29    women        305\n",
       "258     one        268"
      ]
     },
     "execution_count": 19,
     "metadata": {},
     "output_type": "execute_result"
    }
   ],
   "source": [
    "df_no_sarcasm.sort_values('Frequency' , ascending = False , inplace = True)\n",
    "df_no_sarcasm.head()"
   ]
  },
  {
   "cell_type": "markdown",
   "id": "8d53c574",
   "metadata": {},
   "source": [
    "...and reset all the index values"
   ]
  },
  {
   "cell_type": "code",
   "execution_count": 20,
   "id": "1aa1c374",
   "metadata": {},
   "outputs": [
    {
     "data": {
      "text/html": [
       "<div>\n",
       "<style scoped>\n",
       "    .dataframe tbody tr th:only-of-type {\n",
       "        vertical-align: middle;\n",
       "    }\n",
       "\n",
       "    .dataframe tbody tr th {\n",
       "        vertical-align: top;\n",
       "    }\n",
       "\n",
       "    .dataframe thead th {\n",
       "        text-align: right;\n",
       "    }\n",
       "</style>\n",
       "<table border=\"1\" class=\"dataframe\">\n",
       "  <thead>\n",
       "    <tr style=\"text-align: right;\">\n",
       "      <th></th>\n",
       "      <th>Word</th>\n",
       "      <th>Frequency</th>\n",
       "    </tr>\n",
       "  </thead>\n",
       "  <tbody>\n",
       "    <tr>\n",
       "      <th>0</th>\n",
       "      <td>trump</td>\n",
       "      <td>1446</td>\n",
       "    </tr>\n",
       "    <tr>\n",
       "      <th>1</th>\n",
       "      <td>donald</td>\n",
       "      <td>458</td>\n",
       "    </tr>\n",
       "    <tr>\n",
       "      <th>2</th>\n",
       "      <td>says</td>\n",
       "      <td>349</td>\n",
       "    </tr>\n",
       "    <tr>\n",
       "      <th>3</th>\n",
       "      <td>women</td>\n",
       "      <td>305</td>\n",
       "    </tr>\n",
       "    <tr>\n",
       "      <th>4</th>\n",
       "      <td>one</td>\n",
       "      <td>268</td>\n",
       "    </tr>\n",
       "  </tbody>\n",
       "</table>\n",
       "</div>"
      ],
      "text/plain": [
       "     Word  Frequency\n",
       "0   trump       1446\n",
       "1  donald        458\n",
       "2    says        349\n",
       "3   women        305\n",
       "4     one        268"
      ]
     },
     "execution_count": 20,
     "metadata": {},
     "output_type": "execute_result"
    }
   ],
   "source": [
    "df_no_sarcasm.reset_index(drop = True , inplace = True)\n",
    "df_no_sarcasm.head()"
   ]
  },
  {
   "cell_type": "markdown",
   "id": "72a453e8",
   "metadata": {},
   "source": [
    "I am interested to visualize it..."
   ]
  },
  {
   "cell_type": "code",
   "execution_count": 21,
   "id": "f50b9ab8",
   "metadata": {},
   "outputs": [
    {
     "data": {
      "image/png": "[encoded data removed]",
      "text/plain": [
       "<Figure size 1080x576 with 1 Axes>"
      ]
     },
     "metadata": {},
     "output_type": "display_data"
    }
   ],
   "source": [
    "plt.figure(figsize = (15 , 8))\n",
    "plot = sns.barplot( x = df_no_sarcasm.iloc[:30].Word , y = df_no_sarcasm.iloc[:30].Frequency)\n",
    "for item in plot.get_xticklabels():\n",
    "    item.set_rotation(90)\n",
    "plt.show()"
   ]
  },
  {
   "cell_type": "markdown",
   "id": "70b83233",
   "metadata": {},
   "source": [
    "Secondly, the same transform way for SARCASM:"
   ]
  },
  {
   "cell_type": "code",
   "execution_count": 22,
   "id": "75feb028",
   "metadata": {},
   "outputs": [
    {
     "data": {
      "text/html": [
       "<div>\n",
       "<style scoped>\n",
       "    .dataframe tbody tr th:only-of-type {\n",
       "        vertical-align: middle;\n",
       "    }\n",
       "\n",
       "    .dataframe tbody tr th {\n",
       "        vertical-align: top;\n",
       "    }\n",
       "\n",
       "    .dataframe thead th {\n",
       "        text-align: right;\n",
       "    }\n",
       "</style>\n",
       "<table border=\"1\" class=\"dataframe\">\n",
       "  <thead>\n",
       "    <tr style=\"text-align: right;\">\n",
       "      <th></th>\n",
       "      <th>article_link</th>\n",
       "      <th>headline</th>\n",
       "      <th>is_sarcastic</th>\n",
       "    </tr>\n",
       "  </thead>\n",
       "  <tbody>\n",
       "    <tr>\n",
       "      <th>2</th>\n",
       "      <td>https://local.theonion.com/mom-starting-to-fea...</td>\n",
       "      <td>mom starting to fear son's web series closest ...</td>\n",
       "      <td>1</td>\n",
       "    </tr>\n",
       "    <tr>\n",
       "      <th>3</th>\n",
       "      <td>https://politics.theonion.com/boehner-just-wan...</td>\n",
       "      <td>boehner just wants wife to listen, not come up...</td>\n",
       "      <td>1</td>\n",
       "    </tr>\n",
       "    <tr>\n",
       "      <th>8</th>\n",
       "      <td>https://politics.theonion.com/top-snake-handle...</td>\n",
       "      <td>top snake handler leaves sinking huckabee camp...</td>\n",
       "      <td>1</td>\n",
       "    </tr>\n",
       "    <tr>\n",
       "      <th>15</th>\n",
       "      <td>https://entertainment.theonion.com/nuclear-bom...</td>\n",
       "      <td>nuclear bomb detonates during rehearsal for 's...</td>\n",
       "      <td>1</td>\n",
       "    </tr>\n",
       "    <tr>\n",
       "      <th>16</th>\n",
       "      <td>https://www.theonion.com/cosby-lawyer-asks-why...</td>\n",
       "      <td>cosby lawyer asks why accusers didn't come for...</td>\n",
       "      <td>1</td>\n",
       "    </tr>\n",
       "  </tbody>\n",
       "</table>\n",
       "</div>"
      ],
      "text/plain": [
       "                                         article_link  \\\n",
       "2   https://local.theonion.com/mom-starting-to-fea...   \n",
       "3   https://politics.theonion.com/boehner-just-wan...   \n",
       "8   https://politics.theonion.com/top-snake-handle...   \n",
       "15  https://entertainment.theonion.com/nuclear-bom...   \n",
       "16  https://www.theonion.com/cosby-lawyer-asks-why...   \n",
       "\n",
       "                                             headline  is_sarcastic  \n",
       "2   mom starting to fear son's web series closest ...             1  \n",
       "3   boehner just wants wife to listen, not come up...             1  \n",
       "8   top snake handler leaves sinking huckabee camp...             1  \n",
       "15  nuclear bomb detonates during rehearsal for 's...             1  \n",
       "16  cosby lawyer asks why accusers didn't come for...             1  "
      ]
     },
     "execution_count": 22,
     "metadata": {},
     "output_type": "execute_result"
    }
   ],
   "source": [
    "data_sarcasm = dataset[dataset.is_sarcastic == 1]\n",
    "data_sarcasm.head()"
   ]
  },
  {
   "cell_type": "code",
   "execution_count": 23,
   "id": "ed83c815",
   "metadata": {},
   "outputs": [],
   "source": [
    "all_sarcasm_headline = []\n",
    "\n",
    "for i in range(data_sarcasm.shape[0]):\n",
    "    headln = data_sarcasm.iloc[i].headline\n",
    "    headln = nltk.tokenize.RegexpTokenizer('[\\w]+').tokenize(headln)\n",
    "    headln = [word for word in headln if word not in stopwords]\n",
    "    headln = [word for word in headln if word not in filterr]\n",
    "    \n",
    "    all_sarcasm_headline.append(headln)"
   ]
  },
  {
   "cell_type": "code",
   "execution_count": 24,
   "id": "05598dcc",
   "metadata": {},
   "outputs": [
    {
     "data": {
      "text/plain": [
       "['mom',\n",
       " 'starting',\n",
       " 'fear',\n",
       " 'son',\n",
       " 'web',\n",
       " 'series',\n",
       " 'closest',\n",
       " 'thing',\n",
       " 'grandchild',\n",
       " 'boehner']"
      ]
     },
     "execution_count": 24,
     "metadata": {},
     "output_type": "execute_result"
    }
   ],
   "source": [
    "all_sarcasm_headline = list(itertools.chain(*all_sarcasm_headline))\n",
    "all_sarcasm_headline[0:10]"
   ]
  },
  {
   "cell_type": "markdown",
   "id": "63b11364",
   "metadata": {},
   "source": [
    "Now, order by frequency distribution of each word..."
   ]
  },
  {
   "cell_type": "code",
   "execution_count": 25,
   "id": "2de868c1",
   "metadata": {},
   "outputs": [
    {
     "data": {
      "text/plain": [
       "FreqDist({'man': 1144, 'area': 474, 'report': 426, 'nation': 331, 'woman': 317, 'year': 307, 'one': 272, 'old': 267, 'time': 250, 'day': 243, ...})"
      ]
     },
     "execution_count": 25,
     "metadata": {},
     "output_type": "execute_result"
    }
   ],
   "source": [
    "freq_sarcasm = nltk.FreqDist(all_sarcasm_headline)\n",
    "freq_sarcasm"
   ]
  },
  {
   "cell_type": "markdown",
   "id": "8efd8475",
   "metadata": {},
   "source": [
    "and transform that frequency into dataframe"
   ]
  },
  {
   "cell_type": "code",
   "execution_count": 26,
   "id": "0321898b",
   "metadata": {},
   "outputs": [
    {
     "data": {
      "text/html": [
       "<div>\n",
       "<style scoped>\n",
       "    .dataframe tbody tr th:only-of-type {\n",
       "        vertical-align: middle;\n",
       "    }\n",
       "\n",
       "    .dataframe tbody tr th {\n",
       "        vertical-align: top;\n",
       "    }\n",
       "\n",
       "    .dataframe thead th {\n",
       "        text-align: right;\n",
       "    }\n",
       "</style>\n",
       "<table border=\"1\" class=\"dataframe\">\n",
       "  <thead>\n",
       "    <tr style=\"text-align: right;\">\n",
       "      <th></th>\n",
       "      <th>Word</th>\n",
       "      <th>Frequency</th>\n",
       "    </tr>\n",
       "  </thead>\n",
       "  <tbody>\n",
       "    <tr>\n",
       "      <th>0</th>\n",
       "      <td>mom</td>\n",
       "      <td>117</td>\n",
       "    </tr>\n",
       "    <tr>\n",
       "      <th>1</th>\n",
       "      <td>starting</td>\n",
       "      <td>32</td>\n",
       "    </tr>\n",
       "    <tr>\n",
       "      <th>2</th>\n",
       "      <td>fear</td>\n",
       "      <td>16</td>\n",
       "    </tr>\n",
       "    <tr>\n",
       "      <th>3</th>\n",
       "      <td>son</td>\n",
       "      <td>71</td>\n",
       "    </tr>\n",
       "    <tr>\n",
       "      <th>4</th>\n",
       "      <td>web</td>\n",
       "      <td>7</td>\n",
       "    </tr>\n",
       "  </tbody>\n",
       "</table>\n",
       "</div>"
      ],
      "text/plain": [
       "       Word  Frequency\n",
       "0       mom        117\n",
       "1  starting         32\n",
       "2      fear         16\n",
       "3       son         71\n",
       "4       web          7"
      ]
     },
     "execution_count": 26,
     "metadata": {},
     "output_type": "execute_result"
    }
   ],
   "source": [
    "df_sarcasm = pd.DataFrame(list(freq_sarcasm.items()) , columns = ['Word' , 'Frequency'])\n",
    "df_sarcasm.head()"
   ]
  },
  {
   "cell_type": "markdown",
   "id": "548ac0c4",
   "metadata": {},
   "source": [
    "order the frequency's word values:"
   ]
  },
  {
   "cell_type": "code",
   "execution_count": 27,
   "id": "b4a93815",
   "metadata": {},
   "outputs": [
    {
     "data": {
      "text/html": [
       "<div>\n",
       "<style scoped>\n",
       "    .dataframe tbody tr th:only-of-type {\n",
       "        vertical-align: middle;\n",
       "    }\n",
       "\n",
       "    .dataframe tbody tr th {\n",
       "        vertical-align: top;\n",
       "    }\n",
       "\n",
       "    .dataframe thead th {\n",
       "        text-align: right;\n",
       "    }\n",
       "</style>\n",
       "<table border=\"1\" class=\"dataframe\">\n",
       "  <thead>\n",
       "    <tr style=\"text-align: right;\">\n",
       "      <th></th>\n",
       "      <th>Word</th>\n",
       "      <th>Frequency</th>\n",
       "    </tr>\n",
       "  </thead>\n",
       "  <tbody>\n",
       "    <tr>\n",
       "      <th>30</th>\n",
       "      <td>man</td>\n",
       "      <td>1144</td>\n",
       "    </tr>\n",
       "    <tr>\n",
       "      <th>182</th>\n",
       "      <td>area</td>\n",
       "      <td>474</td>\n",
       "    </tr>\n",
       "    <tr>\n",
       "      <th>157</th>\n",
       "      <td>report</td>\n",
       "      <td>426</td>\n",
       "    </tr>\n",
       "    <tr>\n",
       "      <th>56</th>\n",
       "      <td>nation</td>\n",
       "      <td>331</td>\n",
       "    </tr>\n",
       "    <tr>\n",
       "      <th>183</th>\n",
       "      <td>woman</td>\n",
       "      <td>317</td>\n",
       "    </tr>\n",
       "  </tbody>\n",
       "</table>\n",
       "</div>"
      ],
      "text/plain": [
       "       Word  Frequency\n",
       "30      man       1144\n",
       "182    area        474\n",
       "157  report        426\n",
       "56   nation        331\n",
       "183   woman        317"
      ]
     },
     "execution_count": 27,
     "metadata": {},
     "output_type": "execute_result"
    }
   ],
   "source": [
    "df_sarcasm.sort_values('Frequency' , ascending = False , inplace = True)\n",
    "df_sarcasm.head()"
   ]
  },
  {
   "cell_type": "markdown",
   "id": "563b8f30",
   "metadata": {},
   "source": [
    "...and reset all the index values"
   ]
  },
  {
   "cell_type": "code",
   "execution_count": 28,
   "id": "1e4dfe28",
   "metadata": {},
   "outputs": [
    {
     "data": {
      "text/html": [
       "<div>\n",
       "<style scoped>\n",
       "    .dataframe tbody tr th:only-of-type {\n",
       "        vertical-align: middle;\n",
       "    }\n",
       "\n",
       "    .dataframe tbody tr th {\n",
       "        vertical-align: top;\n",
       "    }\n",
       "\n",
       "    .dataframe thead th {\n",
       "        text-align: right;\n",
       "    }\n",
       "</style>\n",
       "<table border=\"1\" class=\"dataframe\">\n",
       "  <thead>\n",
       "    <tr style=\"text-align: right;\">\n",
       "      <th></th>\n",
       "      <th>Word</th>\n",
       "      <th>Frequency</th>\n",
       "    </tr>\n",
       "  </thead>\n",
       "  <tbody>\n",
       "    <tr>\n",
       "      <th>0</th>\n",
       "      <td>man</td>\n",
       "      <td>1144</td>\n",
       "    </tr>\n",
       "    <tr>\n",
       "      <th>1</th>\n",
       "      <td>area</td>\n",
       "      <td>474</td>\n",
       "    </tr>\n",
       "    <tr>\n",
       "      <th>2</th>\n",
       "      <td>report</td>\n",
       "      <td>426</td>\n",
       "    </tr>\n",
       "    <tr>\n",
       "      <th>3</th>\n",
       "      <td>nation</td>\n",
       "      <td>331</td>\n",
       "    </tr>\n",
       "    <tr>\n",
       "      <th>4</th>\n",
       "      <td>woman</td>\n",
       "      <td>317</td>\n",
       "    </tr>\n",
       "  </tbody>\n",
       "</table>\n",
       "</div>"
      ],
      "text/plain": [
       "     Word  Frequency\n",
       "0     man       1144\n",
       "1    area        474\n",
       "2  report        426\n",
       "3  nation        331\n",
       "4   woman        317"
      ]
     },
     "execution_count": 28,
     "metadata": {},
     "output_type": "execute_result"
    }
   ],
   "source": [
    "df_sarcasm.reset_index(drop = True , inplace = True)\n",
    "df_sarcasm.head()"
   ]
  },
  {
   "cell_type": "code",
   "execution_count": 29,
   "id": "223c15f0",
   "metadata": {},
   "outputs": [
    {
     "data": {
      "image/png": "[encoded data removed]",
      "text/plain": [
       "<Figure size 1080x576 with 1 Axes>"
      ]
     },
     "metadata": {},
     "output_type": "display_data"
    }
   ],
   "source": [
    "plt.figure(figsize = (15,8))\n",
    "plot = sns.barplot (x = df_sarcasm.iloc[:30].Word , y = df_sarcasm.iloc[:30].Frequency)\n",
    "for item in plot.get_xticklabels():\n",
    "    item.set_rotation(90)\n",
    "plt.show()"
   ]
  },
  {
   "cell_type": "markdown",
   "id": "16f2b493",
   "metadata": {},
   "source": [
    "# Stemmize"
   ]
  },
  {
   "cell_type": "markdown",
   "id": "86d4f35b",
   "metadata": {},
   "source": [
    "I will make the stemming transformation grouping the words to its respectives roots"
   ]
  },
  {
   "cell_type": "code",
   "execution_count": 30,
   "id": "24f5aec2",
   "metadata": {},
   "outputs": [
    {
     "data": {
      "text/html": [
       "<div>\n",
       "<style scoped>\n",
       "    .dataframe tbody tr th:only-of-type {\n",
       "        vertical-align: middle;\n",
       "    }\n",
       "\n",
       "    .dataframe tbody tr th {\n",
       "        vertical-align: top;\n",
       "    }\n",
       "\n",
       "    .dataframe thead th {\n",
       "        text-align: right;\n",
       "    }\n",
       "</style>\n",
       "<table border=\"1\" class=\"dataframe\">\n",
       "  <thead>\n",
       "    <tr style=\"text-align: right;\">\n",
       "      <th></th>\n",
       "      <th>article_link</th>\n",
       "      <th>headline</th>\n",
       "      <th>is_sarcastic</th>\n",
       "    </tr>\n",
       "  </thead>\n",
       "  <tbody>\n",
       "    <tr>\n",
       "      <th>8765</th>\n",
       "      <td>https://www.theonion.com/christ-to-wed-longtim...</td>\n",
       "      <td>christ to wed longtime backup singer</td>\n",
       "      <td>1</td>\n",
       "    </tr>\n",
       "    <tr>\n",
       "      <th>12852</th>\n",
       "      <td>https://entertainment.theonion.com/struggling-...</td>\n",
       "      <td>struggling don rickles has nothing but nice th...</td>\n",
       "      <td>1</td>\n",
       "    </tr>\n",
       "    <tr>\n",
       "      <th>14607</th>\n",
       "      <td>https://www.huffingtonpost.com/entry/legal-sys...</td>\n",
       "      <td>legal systems have reinforced discrimination a...</td>\n",
       "      <td>0</td>\n",
       "    </tr>\n",
       "    <tr>\n",
       "      <th>15490</th>\n",
       "      <td>https://www.huffingtonpost.comhttp://www.nj.co...</td>\n",
       "      <td>welcome to herointown, new jersey's 4th-larges...</td>\n",
       "      <td>0</td>\n",
       "    </tr>\n",
       "    <tr>\n",
       "      <th>11512</th>\n",
       "      <td>https://politics.theonion.com/biden-s-buffalo-...</td>\n",
       "      <td>biden's buffalo wing challenge dinner not sitt...</td>\n",
       "      <td>1</td>\n",
       "    </tr>\n",
       "    <tr>\n",
       "      <th>7682</th>\n",
       "      <td>https://www.huffingtonpost.com/entry/locating-...</td>\n",
       "      <td>this is how to locate lost life insurance poli...</td>\n",
       "      <td>0</td>\n",
       "    </tr>\n",
       "    <tr>\n",
       "      <th>2574</th>\n",
       "      <td>https://www.huffingtonpost.com/entry/terrorism...</td>\n",
       "      <td>how fear of terrorism may put you at risk of l...</td>\n",
       "      <td>0</td>\n",
       "    </tr>\n",
       "    <tr>\n",
       "      <th>2318</th>\n",
       "      <td>https://www.huffingtonpost.com/entry/house-int...</td>\n",
       "      <td>following trump's lead, gop shifts from russia...</td>\n",
       "      <td>0</td>\n",
       "    </tr>\n",
       "    <tr>\n",
       "      <th>11438</th>\n",
       "      <td>https://www.huffingtonpost.com/entry/greeces-r...</td>\n",
       "      <td>greece's rock portrait gallery, from craggy og...</td>\n",
       "      <td>0</td>\n",
       "    </tr>\n",
       "    <tr>\n",
       "      <th>5882</th>\n",
       "      <td>https://www.huffingtonpost.com/entry/franchesc...</td>\n",
       "      <td>franchesca ramsey's retirement home for trump ...</td>\n",
       "      <td>0</td>\n",
       "    </tr>\n",
       "  </tbody>\n",
       "</table>\n",
       "</div>"
      ],
      "text/plain": [
       "                                            article_link  \\\n",
       "8765   https://www.theonion.com/christ-to-wed-longtim...   \n",
       "12852  https://entertainment.theonion.com/struggling-...   \n",
       "14607  https://www.huffingtonpost.com/entry/legal-sys...   \n",
       "15490  https://www.huffingtonpost.comhttp://www.nj.co...   \n",
       "11512  https://politics.theonion.com/biden-s-buffalo-...   \n",
       "7682   https://www.huffingtonpost.com/entry/locating-...   \n",
       "2574   https://www.huffingtonpost.com/entry/terrorism...   \n",
       "2318   https://www.huffingtonpost.com/entry/house-int...   \n",
       "11438  https://www.huffingtonpost.com/entry/greeces-r...   \n",
       "5882   https://www.huffingtonpost.com/entry/franchesc...   \n",
       "\n",
       "                                                headline  is_sarcastic  \n",
       "8765                christ to wed longtime backup singer             1  \n",
       "12852  struggling don rickles has nothing but nice th...             1  \n",
       "14607  legal systems have reinforced discrimination a...             0  \n",
       "15490  welcome to herointown, new jersey's 4th-larges...             0  \n",
       "11512  biden's buffalo wing challenge dinner not sitt...             1  \n",
       "7682   this is how to locate lost life insurance poli...             0  \n",
       "2574   how fear of terrorism may put you at risk of l...             0  \n",
       "2318   following trump's lead, gop shifts from russia...             0  \n",
       "11438  greece's rock portrait gallery, from craggy og...             0  \n",
       "5882   franchesca ramsey's retirement home for trump ...             0  "
      ]
     },
     "execution_count": 30,
     "metadata": {},
     "output_type": "execute_result"
    }
   ],
   "source": [
    "dataset2 = pd.read_json('Downloads\\sarcasm_dataset\\Sarcasm_Headlines_Dataset.json' , lines = True)\n",
    "dataset2.sample(10)"
   ]
  },
  {
   "cell_type": "markdown",
   "id": "f3e48786",
   "metadata": {},
   "source": [
    "I think that the unique important column is 'headline' and 'is_sarcastic' so I will drop out 'article_link'"
   ]
  },
  {
   "cell_type": "code",
   "execution_count": 31,
   "id": "78e3e64f",
   "metadata": {},
   "outputs": [
    {
     "data": {
      "text/html": [
       "<div>\n",
       "<style scoped>\n",
       "    .dataframe tbody tr th:only-of-type {\n",
       "        vertical-align: middle;\n",
       "    }\n",
       "\n",
       "    .dataframe tbody tr th {\n",
       "        vertical-align: top;\n",
       "    }\n",
       "\n",
       "    .dataframe thead th {\n",
       "        text-align: right;\n",
       "    }\n",
       "</style>\n",
       "<table border=\"1\" class=\"dataframe\">\n",
       "  <thead>\n",
       "    <tr style=\"text-align: right;\">\n",
       "      <th></th>\n",
       "      <th>headline</th>\n",
       "      <th>is_sarcastic</th>\n",
       "    </tr>\n",
       "  </thead>\n",
       "  <tbody>\n",
       "    <tr>\n",
       "      <th>0</th>\n",
       "      <td>former versace store clerk sues over secret 'b...</td>\n",
       "      <td>0</td>\n",
       "    </tr>\n",
       "    <tr>\n",
       "      <th>1</th>\n",
       "      <td>the 'roseanne' revival catches up to our thorn...</td>\n",
       "      <td>0</td>\n",
       "    </tr>\n",
       "    <tr>\n",
       "      <th>2</th>\n",
       "      <td>mom starting to fear son's web series closest ...</td>\n",
       "      <td>1</td>\n",
       "    </tr>\n",
       "    <tr>\n",
       "      <th>3</th>\n",
       "      <td>boehner just wants wife to listen, not come up...</td>\n",
       "      <td>1</td>\n",
       "    </tr>\n",
       "    <tr>\n",
       "      <th>4</th>\n",
       "      <td>j.k. rowling wishes snape happy birthday in th...</td>\n",
       "      <td>0</td>\n",
       "    </tr>\n",
       "  </tbody>\n",
       "</table>\n",
       "</div>"
      ],
      "text/plain": [
       "                                            headline  is_sarcastic\n",
       "0  former versace store clerk sues over secret 'b...             0\n",
       "1  the 'roseanne' revival catches up to our thorn...             0\n",
       "2  mom starting to fear son's web series closest ...             1\n",
       "3  boehner just wants wife to listen, not come up...             1\n",
       "4  j.k. rowling wishes snape happy birthday in th...             0"
      ]
     },
     "execution_count": 31,
     "metadata": {},
     "output_type": "execute_result"
    }
   ],
   "source": [
    "dataset2 = pd.concat([dataset2.headline , dataset2.is_sarcastic] , axis = 1)\n",
    "dataset2.dropna( axis = 0 , inplace = True )\n",
    "dataset2.head()"
   ]
  },
  {
   "cell_type": "markdown",
   "id": "9cd17eec",
   "metadata": {},
   "source": [
    "Before stemming process I will normalize taking out the characters that are not words "
   ]
  },
  {
   "cell_type": "code",
   "execution_count": 32,
   "id": "6641ced3",
   "metadata": {},
   "outputs": [],
   "source": [
    "import re\n",
    "\n",
    "from nltk.stem import PorterStemmer\n",
    "stemmer = PorterStemmer()"
   ]
  },
  {
   "cell_type": "code",
   "execution_count": 33,
   "id": "87d469bf",
   "metadata": {},
   "outputs": [],
   "source": [
    "headline_list = []\n",
    "\n",
    "for headder in dataset2.headline:\n",
    "    \n",
    "    # Replacing special characters to spaces\n",
    "    headder = re.sub('[^a-zA-Z]' , ' ', str(headder))\n",
    "    \n",
    "    # All words into lower case\n",
    "    headder = headder.lower()\n",
    "    \n",
    "    # Tokenize words\n",
    "    headder = nltk.word_tokenize(headder)\n",
    "    \n",
    "    # I think deleting words less than 3 lyrics\n",
    "    headder = [word for word in headder if len(word) > 3]\n",
    "    \n",
    "    # Taking out stopwords\n",
    "    headder = [word for word in headder if not word in stopwords]\n",
    "    \n",
    "    # Now stemmize it\n",
    "    \n",
    "    # I will applay the function seeking the roots' words\n",
    "    headder = [stemmer.stem(word) for word in headder]\n",
    "    \n",
    "    # For last, joining headline\n",
    "    headline_list.append(headder)\n",
    "    "
   ]
  },
  {
   "cell_type": "markdown",
   "id": "3a5113dc",
   "metadata": {},
   "source": [
    "I am going to create a new column into dataset with the stemmized headlines"
   ]
  },
  {
   "cell_type": "code",
   "execution_count": 34,
   "id": "2328db42",
   "metadata": {},
   "outputs": [
    {
     "data": {
      "text/html": [
       "<div>\n",
       "<style scoped>\n",
       "    .dataframe tbody tr th:only-of-type {\n",
       "        vertical-align: middle;\n",
       "    }\n",
       "\n",
       "    .dataframe tbody tr th {\n",
       "        vertical-align: top;\n",
       "    }\n",
       "\n",
       "    .dataframe thead th {\n",
       "        text-align: right;\n",
       "    }\n",
       "</style>\n",
       "<table border=\"1\" class=\"dataframe\">\n",
       "  <thead>\n",
       "    <tr style=\"text-align: right;\">\n",
       "      <th></th>\n",
       "      <th>headline</th>\n",
       "      <th>is_sarcastic</th>\n",
       "      <th>stem_headline</th>\n",
       "    </tr>\n",
       "  </thead>\n",
       "  <tbody>\n",
       "    <tr>\n",
       "      <th>26704</th>\n",
       "      <td>american politics in moral free-fall</td>\n",
       "      <td>0</td>\n",
       "      <td>[american, polit, moral, free, fall]</td>\n",
       "    </tr>\n",
       "    <tr>\n",
       "      <th>26705</th>\n",
       "      <td>america's best 20 hikes</td>\n",
       "      <td>0</td>\n",
       "      <td>[america, best, hike]</td>\n",
       "    </tr>\n",
       "    <tr>\n",
       "      <th>26706</th>\n",
       "      <td>reparations and obama</td>\n",
       "      <td>0</td>\n",
       "      <td>[repar, obama]</td>\n",
       "    </tr>\n",
       "    <tr>\n",
       "      <th>26707</th>\n",
       "      <td>israeli ban targeting boycott supporters raise...</td>\n",
       "      <td>0</td>\n",
       "      <td>[isra, target, boycott, support, rais, alarm, ...</td>\n",
       "    </tr>\n",
       "    <tr>\n",
       "      <th>26708</th>\n",
       "      <td>gourmet gifts for the foodie 2014</td>\n",
       "      <td>0</td>\n",
       "      <td>[gourmet, gift, foodi]</td>\n",
       "    </tr>\n",
       "  </tbody>\n",
       "</table>\n",
       "</div>"
      ],
      "text/plain": [
       "                                                headline  is_sarcastic  \\\n",
       "26704               american politics in moral free-fall             0   \n",
       "26705                            america's best 20 hikes             0   \n",
       "26706                              reparations and obama             0   \n",
       "26707  israeli ban targeting boycott supporters raise...             0   \n",
       "26708                  gourmet gifts for the foodie 2014             0   \n",
       "\n",
       "                                           stem_headline  \n",
       "26704               [american, polit, moral, free, fall]  \n",
       "26705                              [america, best, hike]  \n",
       "26706                                     [repar, obama]  \n",
       "26707  [isra, target, boycott, support, rais, alarm, ...  \n",
       "26708                             [gourmet, gift, foodi]  "
      ]
     },
     "execution_count": 34,
     "metadata": {},
     "output_type": "execute_result"
    }
   ],
   "source": [
    "dataset2['stem_headline'] = headline_list\n",
    "dataset2.tail()"
   ]
  },
  {
   "cell_type": "markdown",
   "id": "dac7de56",
   "metadata": {},
   "source": [
    "Secondly, I will make a new dataset named 'dataset_stem' that contains only 'steam_headline' and 'is_sarcastic' columns"
   ]
  },
  {
   "cell_type": "code",
   "execution_count": 35,
   "id": "9006890c",
   "metadata": {},
   "outputs": [
    {
     "data": {
      "text/html": [
       "<div>\n",
       "<style scoped>\n",
       "    .dataframe tbody tr th:only-of-type {\n",
       "        vertical-align: middle;\n",
       "    }\n",
       "\n",
       "    .dataframe tbody tr th {\n",
       "        vertical-align: top;\n",
       "    }\n",
       "\n",
       "    .dataframe thead th {\n",
       "        text-align: right;\n",
       "    }\n",
       "</style>\n",
       "<table border=\"1\" class=\"dataframe\">\n",
       "  <thead>\n",
       "    <tr style=\"text-align: right;\">\n",
       "      <th></th>\n",
       "      <th>stem_headline</th>\n",
       "      <th>is_sarcastic</th>\n",
       "    </tr>\n",
       "  </thead>\n",
       "  <tbody>\n",
       "    <tr>\n",
       "      <th>0</th>\n",
       "      <td>[former, versac, store, clerk, sue, secret, bl...</td>\n",
       "      <td>0.0</td>\n",
       "    </tr>\n",
       "    <tr>\n",
       "      <th>1</th>\n",
       "      <td>[roseann, reviv, catch, thorni, polit, mood, b...</td>\n",
       "      <td>0.0</td>\n",
       "    </tr>\n",
       "    <tr>\n",
       "      <th>2</th>\n",
       "      <td>[start, fear, seri, closest, thing, grandchild]</td>\n",
       "      <td>1.0</td>\n",
       "    </tr>\n",
       "    <tr>\n",
       "      <th>3</th>\n",
       "      <td>[boehner, want, wife, listen, come, altern, de...</td>\n",
       "      <td>1.0</td>\n",
       "    </tr>\n",
       "    <tr>\n",
       "      <th>4</th>\n",
       "      <td>[rowl, wish, snape, happi, birthday, magic]</td>\n",
       "      <td>0.0</td>\n",
       "    </tr>\n",
       "  </tbody>\n",
       "</table>\n",
       "</div>"
      ],
      "text/plain": [
       "                                       stem_headline  is_sarcastic\n",
       "0  [former, versac, store, clerk, sue, secret, bl...           0.0\n",
       "1  [roseann, reviv, catch, thorni, polit, mood, b...           0.0\n",
       "2    [start, fear, seri, closest, thing, grandchild]           1.0\n",
       "3  [boehner, want, wife, listen, come, altern, de...           1.0\n",
       "4        [rowl, wish, snape, happi, birthday, magic]           0.0"
      ]
     },
     "execution_count": 35,
     "metadata": {},
     "output_type": "execute_result"
    }
   ],
   "source": [
    "dataset_stem = pd.concat([dataset2.stem_headline , dataset.is_sarcastic], axis = 1)\n",
    "dataset_stem.dropna(axis = 0 , inplace = True) # Just in case if there are empty headlines\n",
    "dataset_stem.head()"
   ]
  },
  {
   "cell_type": "markdown",
   "id": "108f00a9",
   "metadata": {},
   "source": [
    "# Lemmatize"
   ]
  },
  {
   "cell_type": "markdown",
   "id": "7c02e5ed",
   "metadata": {},
   "source": [
    "At this point, I will try use lemmatizer but it costs me computing resources even it will completely enhance the roots' words so let's see it "
   ]
  },
  {
   "cell_type": "code",
   "execution_count": 36,
   "id": "0f745e7c",
   "metadata": {},
   "outputs": [],
   "source": [
    "from nltk.stem.wordnet import WordNetLemmatizer\n",
    "from nltk.corpus import wordnet\n",
    "wordnet_lemmatizer = WordNetLemmatizer()"
   ]
  },
  {
   "cell_type": "code",
   "execution_count": 172,
   "id": "eff49df6",
   "metadata": {},
   "outputs": [],
   "source": [
    "dataset3 = pd.read_json('Downloads\\sarcasm_dataset\\Sarcasm_Headlines_Dataset.json' , lines = True)\n",
    "\n",
    "dataset3 = pd.concat([dataset3.headline , dataset3.is_sarcastic] , axis = 1)\n",
    "\n",
    "dataset3.dropna(axis = 0 , inplace = True)"
   ]
  },
  {
   "cell_type": "markdown",
   "id": "39c072ec",
   "metadata": {},
   "source": [
    "I will define a function to traduce the values' tags to POS's values that lemmatizer may understand"
   ]
  },
  {
   "cell_type": "code",
   "execution_count": 173,
   "id": "325dc1b5",
   "metadata": {},
   "outputs": [],
   "source": [
    "def get_wordnet_pos(word):\n",
    "    \"\"\"Map POS tag to first character lemmatize() accepts\"\"\"\n",
    "    tag = nltk.pos_tag([word])[0][1][0].upper()\n",
    "    tag_dict = {\"J\": wordnet.ADJ,\n",
    "                \"N\": wordnet.NOUN,\n",
    "                \"V\": wordnet.VERB,\n",
    "                \"R\": wordnet.ADV}\n",
    "\n",
    "    return tag_dict.get(tag, wordnet.NOUN)"
   ]
  },
  {
   "cell_type": "code",
   "execution_count": 174,
   "id": "fb1abc71",
   "metadata": {},
   "outputs": [],
   "source": [
    "headder3_list=[]\n",
    "for headder3 in dataset3.headline:\n",
    "     # Replacing characters\n",
    "    headder3=re.sub(\"[^a-zA-Z]\",\" \",str(headder3))\n",
    "    # lower case\n",
    "    headder3=headder3.lower()\n",
    "    # Tokenize\n",
    "    headder3=nltk.word_tokenize(headder3)\n",
    "    \n",
    "     # Applying lemmatize\n",
    "    phrase_lemma = [wordnet_lemmatizer.lemmatize(w, get_wordnet_pos(w)) for w in headder3]\n",
    "    \n",
    "    \n",
    "    # Dropping out words less than 3 lyrics\n",
    "    headder3 = [word for word in headder3 if len(word)>3]\n",
    "    # Dropping out Stopwords\n",
    "    headder3 = [word for word in headder3 if not word in stopwords]\n",
    "    \n",
    "    # For last, joining headlines\n",
    "    headder3=\" \".join(headder3)\n",
    "    \n",
    "    headder3_list.append(headder3)"
   ]
  },
  {
   "cell_type": "markdown",
   "id": "9745cced",
   "metadata": {},
   "source": [
    "I am going to create a new column into dataset with the lemmatized headlines"
   ]
  },
  {
   "cell_type": "code",
   "execution_count": 175,
   "id": "0f8e8890",
   "metadata": {},
   "outputs": [
    {
     "data": {
      "text/html": [
       "<div>\n",
       "<style scoped>\n",
       "    .dataframe tbody tr th:only-of-type {\n",
       "        vertical-align: middle;\n",
       "    }\n",
       "\n",
       "    .dataframe tbody tr th {\n",
       "        vertical-align: top;\n",
       "    }\n",
       "\n",
       "    .dataframe thead th {\n",
       "        text-align: right;\n",
       "    }\n",
       "</style>\n",
       "<table border=\"1\" class=\"dataframe\">\n",
       "  <thead>\n",
       "    <tr style=\"text-align: right;\">\n",
       "      <th></th>\n",
       "      <th>headline</th>\n",
       "      <th>is_sarcastic</th>\n",
       "      <th>lemma_headline</th>\n",
       "    </tr>\n",
       "  </thead>\n",
       "  <tbody>\n",
       "    <tr>\n",
       "      <th>26704</th>\n",
       "      <td>american politics in moral free-fall</td>\n",
       "      <td>0</td>\n",
       "      <td>american politics moral free fall</td>\n",
       "    </tr>\n",
       "    <tr>\n",
       "      <th>26705</th>\n",
       "      <td>america's best 20 hikes</td>\n",
       "      <td>0</td>\n",
       "      <td>america best hikes</td>\n",
       "    </tr>\n",
       "    <tr>\n",
       "      <th>26706</th>\n",
       "      <td>reparations and obama</td>\n",
       "      <td>0</td>\n",
       "      <td>reparations obama</td>\n",
       "    </tr>\n",
       "    <tr>\n",
       "      <th>26707</th>\n",
       "      <td>israeli ban targeting boycott supporters raise...</td>\n",
       "      <td>0</td>\n",
       "      <td>israeli targeting boycott supporters raises al...</td>\n",
       "    </tr>\n",
       "    <tr>\n",
       "      <th>26708</th>\n",
       "      <td>gourmet gifts for the foodie 2014</td>\n",
       "      <td>0</td>\n",
       "      <td>gourmet gifts foodie</td>\n",
       "    </tr>\n",
       "  </tbody>\n",
       "</table>\n",
       "</div>"
      ],
      "text/plain": [
       "                                                headline  is_sarcastic  \\\n",
       "26704               american politics in moral free-fall             0   \n",
       "26705                            america's best 20 hikes             0   \n",
       "26706                              reparations and obama             0   \n",
       "26707  israeli ban targeting boycott supporters raise...             0   \n",
       "26708                  gourmet gifts for the foodie 2014             0   \n",
       "\n",
       "                                          lemma_headline  \n",
       "26704                  american politics moral free fall  \n",
       "26705                                 america best hikes  \n",
       "26706                                  reparations obama  \n",
       "26707  israeli targeting boycott supporters raises al...  \n",
       "26708                               gourmet gifts foodie  "
      ]
     },
     "execution_count": 175,
     "metadata": {},
     "output_type": "execute_result"
    }
   ],
   "source": [
    "dataset3[\"lemma_headline\"] = headder3_list\n",
    "dataset3.tail()"
   ]
  },
  {
   "cell_type": "markdown",
   "id": "cfff9940",
   "metadata": {},
   "source": [
    "Finally, I will make a new dataset named 'dataset_lemma' that contains only 'lemma_headline' and 'is_sarcastic' columns"
   ]
  },
  {
   "cell_type": "code",
   "execution_count": 176,
   "id": "5a325e89",
   "metadata": {},
   "outputs": [
    {
     "data": {
      "text/html": [
       "<div>\n",
       "<style scoped>\n",
       "    .dataframe tbody tr th:only-of-type {\n",
       "        vertical-align: middle;\n",
       "    }\n",
       "\n",
       "    .dataframe tbody tr th {\n",
       "        vertical-align: top;\n",
       "    }\n",
       "\n",
       "    .dataframe thead th {\n",
       "        text-align: right;\n",
       "    }\n",
       "</style>\n",
       "<table border=\"1\" class=\"dataframe\">\n",
       "  <thead>\n",
       "    <tr style=\"text-align: right;\">\n",
       "      <th></th>\n",
       "      <th>lemma_headline</th>\n",
       "      <th>is_sarcastic</th>\n",
       "    </tr>\n",
       "  </thead>\n",
       "  <tbody>\n",
       "    <tr>\n",
       "      <th>0</th>\n",
       "      <td>former versace store clerk sues secret black c...</td>\n",
       "      <td>0</td>\n",
       "    </tr>\n",
       "    <tr>\n",
       "      <th>1</th>\n",
       "      <td>roseanne revival catches thorny political mood...</td>\n",
       "      <td>0</td>\n",
       "    </tr>\n",
       "    <tr>\n",
       "      <th>2</th>\n",
       "      <td>starting fear series closest thing grandchild</td>\n",
       "      <td>1</td>\n",
       "    </tr>\n",
       "    <tr>\n",
       "      <th>3</th>\n",
       "      <td>boehner wants wife listen come alternative deb...</td>\n",
       "      <td>1</td>\n",
       "    </tr>\n",
       "    <tr>\n",
       "      <th>4</th>\n",
       "      <td>rowling wishes snape happy birthday magical</td>\n",
       "      <td>0</td>\n",
       "    </tr>\n",
       "  </tbody>\n",
       "</table>\n",
       "</div>"
      ],
      "text/plain": [
       "                                      lemma_headline  is_sarcastic\n",
       "0  former versace store clerk sues secret black c...             0\n",
       "1  roseanne revival catches thorny political mood...             0\n",
       "2      starting fear series closest thing grandchild             1\n",
       "3  boehner wants wife listen come alternative deb...             1\n",
       "4        rowling wishes snape happy birthday magical             0"
      ]
     },
     "execution_count": 176,
     "metadata": {},
     "output_type": "execute_result"
    }
   ],
   "source": [
    "dataset_lemm = pd.concat([dataset3.lemma_headline,dataset3.is_sarcastic],axis=1)\n",
    "dataset_lemm.dropna(axis=0,inplace=True)  # # Just in case if there are empty headlines\n",
    "dataset_lemm.head()"
   ]
  },
  {
   "cell_type": "markdown",
   "id": "e45dd735",
   "metadata": {},
   "source": [
    "Well, there was a completely exausting lemmatized process dued the consumed time while the internal computing operations was working and I have had to install several NLTK's packages even I will compare the lemmatized and stemmized dataset just for if exists some diferences according its POS's comprehension."
   ]
  },
  {
   "cell_type": "code",
   "execution_count": 184,
   "id": "0dce1cea",
   "metadata": {},
   "outputs": [
    {
     "name": "stdout",
     "output_type": "stream",
     "text": [
      "                                       stem_headline  is_sarcastic\n",
      "0  [former, versac, store, clerk, sue, secret, bl...           0.0\n",
      "1  [roseann, reviv, catch, thorni, polit, mood, b...           0.0\n",
      "                                      lemma_headline  is_sarcastic\n",
      "0  former versace store clerk sues secret black c...             0\n",
      "1  roseanne revival catches thorny political mood...             0\n"
     ]
    }
   ],
   "source": [
    "print(dataset_stem.head(2))\n",
    "print(dataset_lemm.head(2))"
   ]
  },
  {
   "cell_type": "markdown",
   "id": "ceba931d",
   "metadata": {},
   "source": [
    "Definitely I can comprove that lemmatized process boost a lot the extractions' words making it a better understanding context."
   ]
  },
  {
   "cell_type": "markdown",
   "id": "1dc4c50b",
   "metadata": {},
   "source": [
    "# Vectorize "
   ]
  },
  {
   "cell_type": "markdown",
   "id": "aea6ff75",
   "metadata": {},
   "source": [
    "I will use the lemmatized dataset and I need to convert every headline into vector where appears a 1 or 0 if contains it."
   ]
  },
  {
   "cell_type": "code",
   "execution_count": 178,
   "id": "24aae19d",
   "metadata": {},
   "outputs": [],
   "source": [
    "head_list = list(dataset_lemm['lemma_headline'].values)\n",
    "\n",
    "is_sarc = dataset_lemm['is_sarcastic'].values"
   ]
  },
  {
   "cell_type": "code",
   "execution_count": 179,
   "id": "ba9693da",
   "metadata": {},
   "outputs": [],
   "source": [
    "from sklearn.feature_extraction.text import CountVectorizer\n",
    "\n",
    "# I will use only the 1000 mostly frequency words troughout corpus to generate the vectors\n",
    "max_features=1000\n",
    "\n",
    "# # Which every instance will has 1000 features\n",
    "cou_vec=CountVectorizer(max_features=max_features)"
   ]
  },
  {
   "cell_type": "markdown",
   "id": "3b412aeb",
   "metadata": {},
   "source": [
    "Furthermore, I guess the deduction to work with the mostly repeated words because these will give me more information than others."
   ]
  },
  {
   "cell_type": "code",
   "execution_count": 185,
   "id": "3de6e198",
   "metadata": {},
   "outputs": [
    {
     "name": "stdout",
     "output_type": "stream",
     "text": [
      "The 50 most used words:  ['abortion' 'abuse' 'accidentally' 'according' 'accused' 'across' 'action'\n",
      " 'activists' 'actor' 'actually' 'address' 'adds' 'administration' 'admits'\n",
      " 'adorable' 'advice' 'afghanistan' 'ahead' 'airport' 'album' 'allegations'\n",
      " 'almost' 'already' 'also' 'always' 'amazing' 'amazon' 'america'\n",
      " 'american' 'americans' 'amid' 'among' 'anniversary' 'announce'\n",
      " 'announces' 'another' 'anti' 'anyone' 'anything' 'apartment' 'apologizes'\n",
      " 'apparently' 'apple' 'archives' 'area' 'around' 'arrested' 'artist'\n",
      " 'asked' 'asking']\n"
     ]
    }
   ],
   "source": [
    "headline_matrix = cou_vec.fit_transform(head_list)\n",
    "\n",
    "# Take the words\n",
    "all_words = cou_vec.get_feature_names_out()\n",
    "\n",
    "\n",
    "print('The 50 most used words: ' ,all_words[0:50])"
   ]
  },
  {
   "cell_type": "markdown",
   "id": "f46c0a89",
   "metadata": {},
   "source": [
    "# Modeling"
   ]
  },
  {
   "cell_type": "markdown",
   "id": "da9d7fe4",
   "metadata": {},
   "source": [
    "Everything is done for working with a definitive new dataset and start the modeling process"
   ]
  },
  {
   "cell_type": "markdown",
   "id": "c1a3b050",
   "metadata": {},
   "source": [
    "Train - Test:"
   ]
  },
  {
   "cell_type": "code",
   "execution_count": 181,
   "id": "9ba0f86e",
   "metadata": {},
   "outputs": [],
   "source": [
    "x = headline_matrix.toarray()\n",
    "y = is_sarc\n",
    "\n",
    "from sklearn.model_selection import train_test_split\n",
    "xtrain, xtest, ytrain, ytest = train_test_split(x,y,test_size=0.2,random_state=42,stratify=y)"
   ]
  },
  {
   "cell_type": "markdown",
   "id": "0ea847a8",
   "metadata": {},
   "source": [
    "Define a function that allows me plot the results in a confusion matrix"
   ]
  },
  {
   "cell_type": "code",
   "execution_count": 196,
   "id": "1dc3ebd6",
   "metadata": {},
   "outputs": [],
   "source": [
    "from sklearn.metrics import confusion_matrix\n",
    "import seaborn as sns\n",
    "\n",
    "def confusion(ytest,y_pred):\n",
    "    names=[\"No Sarcastic\",\"Sarcastic\"]\n",
    "    cm=confusion_matrix(ytest,y_pred)\n",
    "    f,ax=plt.subplots(figsize=(5,5))\n",
    "    sns.heatmap(cm,annot=True,linewidth=.5,linecolor=\"r\",fmt=\".0f\",ax=ax)\n",
    "    plt.xlabel(\"y_pred\")\n",
    "    plt.ylabel(\"y_true\")\n",
    "    ax.set_xticklabels(names)\n",
    "    ax.set_yticklabels(names)\n",
    "    plt.show()\n",
    "\n",
    "    return"
   ]
  },
  {
   "cell_type": "markdown",
   "id": "2c3fc38c",
   "metadata": {},
   "source": [
    "# Naive Bayes\n",
    "\n",
    "\n",
    "I just start with a simple Naive Bayes to get a reference benchmark model for accuracy"
   ]
  },
  {
   "cell_type": "code",
   "execution_count": 197,
   "id": "1107d3a0",
   "metadata": {},
   "outputs": [
    {
     "name": "stdout",
     "output_type": "stream",
     "text": [
      "acc :  0.6800823661549982\n"
     ]
    }
   ],
   "source": [
    "from sklearn.naive_bayes import GaussianNB\n",
    "nb = GaussianNB()\n",
    "nb.fit(xtrain,ytrain)\n",
    "print(\"acc : \", nb.score(xtest,ytest))"
   ]
  },
  {
   "cell_type": "code",
   "execution_count": 198,
   "id": "c881348f",
   "metadata": {},
   "outputs": [
    {
     "data": {
      "image/png": "[encoded data removed]",
      "text/plain": [
       "<Figure size 360x360 with 2 Axes>"
      ]
     },
     "metadata": {},
     "output_type": "display_data"
    }
   ],
   "source": [
    "y_pred = nb.predict(xtest)\n",
    "confusion(ytest , y_pred)"
   ]
  },
  {
   "cell_type": "code",
   "execution_count": 200,
   "id": "22df4c50",
   "metadata": {},
   "outputs": [
    {
     "name": "stdout",
     "output_type": "stream",
     "text": [
      "              precision    recall  f1-score   support\n",
      "\n",
      "No_sarcastic       0.78      0.60      0.68      2997\n",
      "   Sarcastic       0.60      0.78      0.68      2345\n",
      "\n",
      "    accuracy                           0.68      5342\n",
      "   macro avg       0.69      0.69      0.68      5342\n",
      "weighted avg       0.70      0.68      0.68      5342\n",
      "\n"
     ]
    }
   ],
   "source": [
    "from sklearn.metrics import classification_report\n",
    "\n",
    "print(classification_report(ytest, y_pred, target_names=['No_sarcastic' , 'Sarcastic']))"
   ]
  },
  {
   "cell_type": "markdown",
   "id": "d9d43baa",
   "metadata": {},
   "source": [
    "I may say that the most viable evaluating metric is f1-score give me an equilibrated punctuation even though there were more 'No_Sarcastic' data than 'Sarcastic'"
   ]
  },
  {
   "cell_type": "markdown",
   "id": "7875c7c9",
   "metadata": {},
   "source": [
    "# Random Forest"
   ]
  },
  {
   "cell_type": "code",
   "execution_count": 203,
   "id": "388d9c04",
   "metadata": {},
   "outputs": [
    {
     "name": "stdout",
     "output_type": "stream",
     "text": [
      "acc:  0.7141520029951329\n"
     ]
    }
   ],
   "source": [
    "from sklearn.ensemble import RandomForestClassifier\n",
    "from sklearn.metrics import confusion_matrix\n",
    "\n",
    "rf = RandomForestClassifier(n_estimators = 150 , random_state = 42)\n",
    "rf.fit(xtrain , ytrain)\n",
    "print('acc: ' , rf.score(xtest , ytest))"
   ]
  },
  {
   "cell_type": "code",
   "execution_count": 204,
   "id": "d2af864c",
   "metadata": {},
   "outputs": [
    {
     "data": {
      "image/png": "[encoded data removed]",
      "text/plain": [
       "<Figure size 360x360 with 2 Axes>"
      ]
     },
     "metadata": {},
     "output_type": "display_data"
    }
   ],
   "source": [
    "y_pred=rf.predict(xtest)\n",
    "confusion(ytest,y_pred)"
   ]
  },
  {
   "cell_type": "markdown",
   "id": "c99a23f9",
   "metadata": {},
   "source": [
    "Here I have an unbalanced demostration in the confusion matrix with Random Forest in favor to 'No Sarcastic' identification than 'Sarcastic'.\n",
    "\n",
    "I am interested to know the importance of features that Random Forest has used to considered this score..."
   ]
  },
  {
   "cell_type": "code",
   "execution_count": 205,
   "id": "46a46eeb",
   "metadata": {},
   "outputs": [
    {
     "name": "stderr",
     "output_type": "stream",
     "text": [
      "C:\\Users\\Angel\\anaconda3\\lib\\site-packages\\sklearn\\utils\\deprecation.py:87: FutureWarning: Function get_feature_names is deprecated; get_feature_names is deprecated in 1.0 and will be removed in 1.2. Please use get_feature_names_out instead.\n",
      "  warnings.warn(msg, category=FutureWarning)\n",
      "C:\\Users\\Angel\\anaconda3\\lib\\site-packages\\seaborn\\_decorators.py:36: FutureWarning: Pass the following variables as keyword args: x, y. From version 0.12, the only valid positional argument will be `data`, and passing other arguments without an explicit keyword will result in an error or misinterpretation.\n",
      "  warnings.warn(\n"
     ]
    },
    {
     "data": {
      "image/png": "[encoded data removed]",
      "text/plain": [
       "<Figure size 1080x576 with 1 Axes>"
      ]
     },
     "metadata": {},
     "output_type": "display_data"
    }
   ],
   "source": [
    "# I ask the importance for every feature\n",
    "importances = rf.feature_importances_\n",
    "# Take the list of words\n",
    "all_words = cou_vec.get_feature_names()\n",
    "columns = all_words\n",
    "\n",
    "# Order the importance and take the 20\n",
    "indices = np.argsort(importances)[::-1]\n",
    "indices = indices[:20]\n",
    "selected_columns = [columns[i] for i in indices]\n",
    "selected_importances = importances[indices]\n",
    "\n",
    "# Graphic\n",
    "plt.figure(figsize = (15,8))\n",
    "sns.barplot(selected_columns, selected_importances)\n",
    "plt.show()"
   ]
  },
  {
   "cell_type": "markdown",
   "id": "f52d0e0b",
   "metadata": {},
   "source": [
    "Area, Trump and Nation are the words that has a great impact in the RF process modeling"
   ]
  },
  {
   "cell_type": "markdown",
   "id": "0c087c58",
   "metadata": {},
   "source": [
    "# SVM"
   ]
  },
  {
   "cell_type": "markdown",
   "id": "2b6cb9d3",
   "metadata": {},
   "source": [
    "I will see with a SVM model beacause the number features is comparable to the number of istances:"
   ]
  },
  {
   "cell_type": "code",
   "execution_count": 206,
   "id": "c325978f",
   "metadata": {},
   "outputs": [
    {
     "data": {
      "text/plain": [
       "0.729127667540247"
      ]
     },
     "execution_count": 206,
     "metadata": {},
     "output_type": "execute_result"
    }
   ],
   "source": [
    "# I preffer to use Linear SVM. \n",
    "# For Linear Kernel, this function is fastest than traditional SVC.\n",
    "from sklearn.svm import LinearSVC\n",
    "\n",
    "svc = LinearSVC(C = 1)\n",
    "svc.fit(xtrain,ytrain)\n",
    "svc.score(xtest,ytest)"
   ]
  },
  {
   "cell_type": "code",
   "execution_count": 207,
   "id": "b462015a",
   "metadata": {},
   "outputs": [
    {
     "data": {
      "image/png": "[encoded data removed]",
      "text/plain": [
       "<Figure size 360x360 with 2 Axes>"
      ]
     },
     "metadata": {},
     "output_type": "display_data"
    }
   ],
   "source": [
    "y_pred=svc.predict(xtest)\n",
    "confusion(ytest,y_pred)"
   ]
  },
  {
   "cell_type": "markdown",
   "id": "de8343db",
   "metadata": {},
   "source": [
    "Despite applying Linear SVM, I confirm that keeps unbalanced as Random Forest Model with 'No Sarcastic' in place of 'Sarcastic' texts."
   ]
  },
  {
   "cell_type": "markdown",
   "id": "f58d0ead",
   "metadata": {},
   "source": [
    "# Final considerations"
   ]
  },
  {
   "cell_type": "markdown",
   "id": "bf8293a9",
   "metadata": {},
   "source": [
    "I might considered a more efficient model using F1-Score because such as I  previously checked its respective confusion matrix the real 'No Sarcastic' and 'Sarcastic' comments are taken and equality in a balanced way between themselves and there are a minimal retenction of falses negatives and falses positives. Above all, the F1 - Scores is the perfect metric in this special case for calibrating bynaries values and maintaining an optimal neutral separation. "
   ]
  },
  {
   "cell_type": "code",
   "execution_count": null,
   "id": "4769ebab",
   "metadata": {},
   "outputs": [],
   "source": []
  }
 ],
 "metadata": {
  "kernelspec": {
   "display_name": "Python 3 (ipykernel)",
   "language": "python",
   "name": "python3"
  },
  "language_info": {
   "codemirror_mode": {
    "name": "ipython",
    "version": 3
   },
   "file_extension": ".py",
   "mimetype": "text/x-python",
   "name": "python",
   "nbconvert_exporter": "python",
   "pygments_lexer": "ipython3",
   "version": "3.9.12"
  }
 },
 "nbformat": 4,
 "nbformat_minor": 5
}
