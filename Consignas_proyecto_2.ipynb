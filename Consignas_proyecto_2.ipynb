{
  "nbformat": 4,
  "nbformat_minor": 0,
  "metadata": {
    "colab": {
      "provenance": []
    },
    "kernelspec": {
      "name": "python3",
      "display_name": "Python 3"
    },
    "language_info": {
      "name": "python"
    }
  },
  "cells": [
    {
      "cell_type": "markdown",
      "source": [
        "# Proyecto Número 2\n",
        "\n",
        "###Resumen del proyecto\n",
        "Aplica transformación de datos y entrena Modelos Avanzados para desarrollar con mayor profundidad tu modelo de Machine Learning. ¿Qué puedes aprender del problema que estás abordando mediante el estudio de tu propio modelo?\n",
        "La realización y entrega del Proyecto es individual.\n",
        "\n",
        "###Entregable\n",
        "Un Notebook de Jupyter con la resolución de la consigna. El Notebook debe poder ejecutarse sin errores.\n",
        "\n",
        "###Referencias\n",
        "Apóyate en las bitácoras, los notebooks trabajados y las presentaciones vistas en clase para resolver tu proyecto. También será de mucha utilidad la documentación de las librerías de Python. No dudes en consultar comunidades online como Stack Overflow y, por supuesto, buscar en la web (googlear).\n",
        "\n",
        "\n",
        "###Recursos\n",
        "Para realizar el proyecto:\n",
        "Utiliza el siguiente dataset (es el mismo que en el Proyecto 01): Dataset Properati (DSProyecto01DatosProperati.csv)\n",
        "Retoma el notebook desarrollado para el Proyecto 01 y considera la devolución que recibiste de tu evaluador/a.\n",
        "\n",
        "\n",
        "###Consigna\n",
        "En este proyecto profundizarás lo desarrollado en el proyecto 01 (“Primer modelo de Machine Learning”). El objetivo es aplicar las técnicas incorporadas (Transformación de Datos, Optimización de Hiperparámetros, Modelos Avanzados, etc.) para generar un modelo que tenga un mejor desempeño que el modelo generado en el proyecto anterior. Luego, interpreta ese modelo para responder la siguiente pregunta: ¿qué podemos aprender de nuestro problema estudiando el modelo que generamos?\n",
        "\n",
        "###El trabajo se organiza en tres partes:\n",
        "###PARTE A - Transformación de Datos\n",
        "Elige cuáles de las siguientes tareas son apropiadas para su dataset. Implementa las transformaciones que elegiste. Es importante que justifiques por qué las haces:\n",
        "* Detección y eliminación de Outliers\n",
        "* Encoding\n",
        "* Imputación de valores faltantes\n",
        "* Escalado de datos\n",
        "* Generación de nuevas variables predictoras/reducción de dimensionalidad (SVD/PCA).\n",
        "\n",
        "Vuelve a entrenar el modelo implementado en la Entrega 01 - en particular, el árbol de decisión - con este nuevo dataset transformado. Evalúa su desempeño a partir del dataset obtenido luego de transformar los datos. ¿Hay una mejora en su desempeño? Compara con el desempeño obtenido en el proyecto 01. Sea cual sea la respuesta, intenta explicar a qué se debe.\n",
        "\n",
        "###PARTE B - Modelos Avanzados\n",
        "* Elige dos de los modelos avanzados vistos Compara con el desempeño obtenido en el proyecto 01 (en el caso de regresión, considera una regresión lineal con atributos polinómicos y regularización). Entrénalos y evalúalos con sus argumentos por defecto. No te olvides de hacer un train/test split y usar Validación Cruzada.\n",
        "* Optimiza sus hiperparámetros mediante Validación Cruzada y Grid Search o Random Search.\n",
        "* Compara el desempeño de los nuevos modelos entre sí y con el modelo de la Parte A. ¿Cuál elegirías? Justifica.\n",
        "###PARTE C - Interpretación de modelos\n",
        "De acuerdo a lo que el modelo permite, responde algunas o todas las siguientes preguntas:\n",
        "* ¿Qué variables fueron relevantes para el modelo para hacer una predicción? ¿Cuáles no? Si usaste una regresión lineal con regularización, presta atención a los parámetros (pendientes) obtenidas. Si usaste un modelo de ensamble en árboles, además de ver la importancia de cada atributo, también elige algunos árboles al azar y observa qué atributos considera importantes. ¿En qué se diferencian esos árboles? ¿Por qué? Finalmente, responde, ¿coincide con lo que esperabas a partir de tu experiencia con este dataset?\n",
        "* ¿Cómo es la distribución de errores (regresión) o qué clases se confunden entre sí (clasificación)? ¿Dónde falla? ¿A qué se debe?\n",
        "\n",
        "###DESAFÍO OPCIONAL\n",
        "Aplica una técnica de Clustering sobre el dataset. Puedes combinar con técnicas de reducción de dimensionalidad para facilitar la visualización. ¿Qué clusters encuentras? ¿A qué pueden corresponder? Te dejamos preguntas que pueden servir como disparadoras: ¿qué barrios se parecen más entre sí?¿qué tipos de propiedades se parecen más entre sí?\n",
        "\n",
        "###Checklist de evaluación\n",
        "Sugerencias para desarrollar el proyecto:\n",
        "* Este proyecto no cuenta con mínimos entregables indicados en la consigna, pero ten en cuenta lo siguiente:\n",
        "* en la Parte A debes implementar al menos tres de las transformaciones de datos propuestas.\n",
        "* en la Parte B, al menos un modelo debe ser optimizado por Grid Search o Random Search; el otro puede ser optimizado por búsqueda manual (es decir, puedes dejar los mejores parámetros que encontraste probando).\n",
        "* en la Parte C, debes responder al menos una pregunta. Obviamente, ¡cuanto más hagas, más aprenderás y mejor será tu proyecto!\n",
        "* La resolución del proyecto te puede enfrentar a pequeños desafíos que no trabajamos durante los encuentros. Es importante que desarrolles la capacidad de resolverlos. Para ello, consulta las bitácoras, las referencias, los notebooks vistos en clase, la documentación de la librería y, sobre todo, googlea.\n",
        "Antes de subir tu proyecto a la plataforma Acámica para que sea evaluado, verifica que el Notebook se ejecute sin errores. Además, asegúrate de cumplir con las siguientes condiciones (son las que los/as evaluadores/as tendrán en consideración al momento de corregir tu trabajo):\n",
        "###PARTE A - Transformación de Datos\n",
        "* Debes justificar por qué creés que las transformaciones elegidas aplican en este dataset. Ten en cuenta que, en el manejo de valores atípicos o en la imputación de valores faltantes, los valores obtenidos deben tener sentido. Por ejemplo, valores mayores que cero para superficies, número de baños, etc.\n",
        "* Debes re entrenar un modelo del Proyecto 01 y comparar su desempeño con el modelo obtenido en el Proyecto 01. Una aclaración: con reentrenar nos referimos a usar el mismo proceso de entrenamiento junto con sus hiperparámetros. Pero puede ocurrir - y, de hecho, se espera - que el dataset contenga más atributos que los utilizados en el Proyecto 01.\n",
        "###PARTE B - Modelos Avanzados\n",
        "En la optimización de hiperparámetros, debes justificar los parámetros que elegiste para optimizar y el rango de cada uno.\n",
        "###PARTE C - Interpretación de modelos\n",
        "Debes estudiar qué variables utiliza el modelo para predecir y responder la pregunta: ¿coincide con lo que esperabas a partir de tu experiencia con este dataset?\n",
        "Es muy importante que analices los errores del modelo. ¿Dónde es mayor el error? ¿dónde acierta?\n",
        "Debes ser crítico/a con la metodología utilizada. ¿Qué mejorarías? Ten en cuenta siempre terminar con una discusión sobre lo realizado y conclusiones obtenidas.\n",
        "\n",
        "\n",
        "\n"
      ],
      "metadata": {
        "id": "ClPwbHpoYaSZ"
      }
    },
    {
      "cell_type": "code",
      "source": [],
      "metadata": {
        "id": "tufptVsXajpc"
      },
      "execution_count": null,
      "outputs": []
    }
  ]
}